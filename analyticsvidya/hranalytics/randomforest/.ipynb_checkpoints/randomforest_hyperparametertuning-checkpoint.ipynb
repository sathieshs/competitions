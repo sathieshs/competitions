{
 "cells": [
  {
   "cell_type": "code",
   "execution_count": 1,
   "id": "a9ac778f",
   "metadata": {},
   "outputs": [],
   "source": [
    "from sklearn.ensemble import RandomForestClassifier\n",
    "import numpy as np\n",
    "import pandas as pd\n",
    "from sklearn.model_selection import train_test_split,GridSearchCV"
   ]
  },
  {
   "cell_type": "code",
   "execution_count": 2,
   "id": "5b588374",
   "metadata": {},
   "outputs": [],
   "source": [
    "X=pd.read_csv('../oversample/train_x.csv')\n",
    "Y=pd.read_csv('../oversample/train_y.csv')\n",
    "Y=Y['target']\n",
    "X.drop(['Unnamed: 0'],axis=1,inplace=True)"
   ]
  },
  {
   "cell_type": "code",
   "execution_count": 3,
   "id": "49f7ac57",
   "metadata": {},
   "outputs": [],
   "source": [
    "\n",
    "\n",
    "x_train, x_test, y_train, y_test=train_test_split(X,Y, test_size=0.3, random_state=42)"
   ]
  },
  {
   "cell_type": "code",
   "execution_count": 5,
   "id": "84dbd533",
   "metadata": {},
   "outputs": [
    {
     "data": {
      "text/plain": [
       "GridSearchCV(estimator=RandomForestClassifier(), n_jobs=3,\n",
       "             param_grid={'max_depth': [4, 8, 12],\n",
       "                         'max_features': [10, 20, 40, 50, 80, 120],\n",
       "                         'min_samples_leaf': [1, 4, 6],\n",
       "                         'min_samples_split': [2, 5, 8],\n",
       "                         'n_estimators': [100, 400, 1000, 2000],\n",
       "                         'oob_score': [True, False]})"
      ]
     },
     "execution_count": 5,
     "metadata": {},
     "output_type": "execute_result"
    }
   ],
   "source": [
    "base_estimator=RandomForestClassifier()\n",
    "param_grid = {'n_estimators':[100,400,1000,2000],\n",
    "             'max_depth': [4, 8, 12],\n",
    "             'min_samples_split':[2,5,8],\n",
    "             'min_samples_leaf':[1, 4, 6],\n",
    "             'max_features':[10,20,40,50,80,120],\n",
    "             'oob_score':[True,False]}\n",
    "clf =  GridSearchCV(base_estimator, param_grid,n_jobs=3)\n",
    "clf.fit(X,Y)"
   ]
  },
  {
   "cell_type": "code",
   "execution_count": 6,
   "id": "6878d319",
   "metadata": {},
   "outputs": [],
   "source": [
    "import pickle\n",
    "with open('gridsearch.pickle','wb') as f:\n",
    "    pickle.dump(clf, f) "
   ]
  },
  {
   "cell_type": "code",
   "execution_count": 7,
   "id": "56ffb8e2",
   "metadata": {},
   "outputs": [],
   "source": [
    "estimator=clf.best_estimator_"
   ]
  },
  {
   "cell_type": "code",
   "execution_count": 8,
   "id": "d93442ab",
   "metadata": {},
   "outputs": [
    {
     "data": {
      "text/plain": [
       "RandomForestClassifier(max_depth=12, max_features=80, n_estimators=1000)"
      ]
     },
     "execution_count": 8,
     "metadata": {},
     "output_type": "execute_result"
    }
   ],
   "source": [
    "estimator"
   ]
  },
  {
   "cell_type": "code",
   "execution_count": null,
   "id": "d74aab5d",
   "metadata": {},
   "outputs": [],
   "source": []
  }
 ],
 "metadata": {
  "kernelspec": {
   "display_name": "Python 3 (ipykernel)",
   "language": "python",
   "name": "python3"
  },
  "language_info": {
   "codemirror_mode": {
    "name": "ipython",
    "version": 3
   },
   "file_extension": ".py",
   "mimetype": "text/x-python",
   "name": "python",
   "nbconvert_exporter": "python",
   "pygments_lexer": "ipython3",
   "version": "3.10.1"
  }
 },
 "nbformat": 4,
 "nbformat_minor": 5
}
