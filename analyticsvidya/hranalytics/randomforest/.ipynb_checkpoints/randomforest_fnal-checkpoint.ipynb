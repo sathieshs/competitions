{
 "cells": [
  {
   "cell_type": "code",
   "execution_count": 101,
   "id": "a9ac778f",
   "metadata": {},
   "outputs": [],
   "source": [
    "from sklearn.ensemble import RandomForestClassifier\n",
    "import numpy as np\n",
    "import pandas as pd\n",
    "from sklearn.model_selection import train_test_split\n",
    "from sklearn.metrics import roc_auc_score,roc_curve,confusion_matrix,ConfusionMatrixDisplay,precision_recall_curve,accuracy_score,f1_score,precision_score,recall_score"
   ]
  },
  {
   "cell_type": "code",
   "execution_count": 102,
   "id": "5b588374",
   "metadata": {},
   "outputs": [],
   "source": [
    "X=pd.read_csv('../x_train_knn_feat_only.csv')\n",
    "Y=pd.read_csv('../train_y.csv')\n",
    "Y=Y['target']\n"
   ]
  },
  {
   "cell_type": "code",
   "execution_count": 103,
   "id": "c5eff663",
   "metadata": {},
   "outputs": [
    {
     "data": {
      "text/plain": [
       "(18359, 23)"
      ]
     },
     "execution_count": 103,
     "metadata": {},
     "output_type": "execute_result"
    }
   ],
   "source": [
    "X.shape"
   ]
  },
  {
   "cell_type": "code",
   "execution_count": 104,
   "id": "49f7ac57",
   "metadata": {},
   "outputs": [],
   "source": [
    "\n",
    "\n",
    "x_train, x_test, y_train, y_test=train_test_split(X,Y, test_size=0.3, random_state=42)"
   ]
  },
  {
   "cell_type": "code",
   "execution_count": 108,
   "id": "84dbd533",
   "metadata": {},
   "outputs": [],
   "source": [
    "clf=RandomForestClassifier()\n",
    "clf.fit(x_train,y_train)\n",
    "y_prob=clf.predict_proba(x_train)\n",
    "y_prob_pos=y_prob[:,1]\n",
    "y_pred=clf.predict(x_train)"
   ]
  },
  {
   "cell_type": "code",
   "execution_count": 109,
   "id": "3e231e9d",
   "metadata": {},
   "outputs": [
    {
     "name": "stdout",
     "output_type": "stream",
     "text": [
      "AUC score is 0.9999978165300857\n",
      "Accuracy score is :0.999299665395689\n",
      "precision  is :0.9963855421686747\n",
      "f1 score is :0.9972867048537836\n",
      "recall score is :0.9981894990947495\n"
     ]
    }
   ],
   "source": [
    "score=roc_auc_score(y_train,y_prob_pos)\n",
    "print('AUC score is '+str(score))\n",
    "print('Accuracy score is :'+str(accuracy_score(y_train,y_pred)))\n",
    "print('precision  is :'+str(precision_score(y_train,y_pred)))\n",
    "print('f1 score is :'+str(f1_score(y_train,y_pred)))\n",
    "print('recall score is :'+str(recall_score(y_train,y_pred)))\n"
   ]
  },
  {
   "cell_type": "code",
   "execution_count": 110,
   "id": "51de4192",
   "metadata": {},
   "outputs": [
    {
     "name": "stdout",
     "output_type": "stream",
     "text": [
      "AUC score is 0.9999914842651195\n",
      "Accuracy score is :0.9981844589687727\n",
      "precision  is :0.9909326424870466\n",
      "f1 score is :0.9935064935064934\n",
      "recall score is :0.99609375\n"
     ]
    }
   ],
   "source": [
    "y_prob_test=clf.predict_proba(x_test)\n",
    "y_prob_pos_test=y_prob_test[:,1]\n",
    "score=roc_auc_score(y_test,y_prob_pos_test)\n",
    "y_pred_test=clf.predict(x_test)\n",
    "print('AUC score is '+str(score))\n",
    "print('Accuracy score is :'+str(accuracy_score(y_test,y_pred_test)))\n",
    "print('precision  is :'+str(precision_score(y_test,y_pred_test)))\n",
    "print('f1 score is :'+str(f1_score(y_test,y_pred_test)))\n",
    "print('recall score is :'+str(recall_score(y_test,y_pred_test)))"
   ]
  },
  {
   "cell_type": "code",
   "execution_count": 111,
   "id": "c94e8c80",
   "metadata": {},
   "outputs": [
    {
     "data": {
      "text/html": [
       "<div>\n",
       "<style scoped>\n",
       "    .dataframe tbody tr th:only-of-type {\n",
       "        vertical-align: middle;\n",
       "    }\n",
       "\n",
       "    .dataframe tbody tr th {\n",
       "        vertical-align: top;\n",
       "    }\n",
       "\n",
       "    .dataframe thead th {\n",
       "        text-align: right;\n",
       "    }\n",
       "</style>\n",
       "<table border=\"1\" class=\"dataframe\">\n",
       "  <thead>\n",
       "    <tr style=\"text-align: right;\">\n",
       "      <th></th>\n",
       "      <th>knn_0</th>\n",
       "      <th>knn_1</th>\n",
       "      <th>knn_2</th>\n",
       "      <th>knn_3</th>\n",
       "      <th>knn_4</th>\n",
       "      <th>knn_5</th>\n",
       "      <th>knn_6</th>\n",
       "      <th>knn_7</th>\n",
       "      <th>knn_8</th>\n",
       "      <th>knn_9</th>\n",
       "      <th>...</th>\n",
       "      <th>knn_13</th>\n",
       "      <th>knn_14</th>\n",
       "      <th>knn_15</th>\n",
       "      <th>knn_16</th>\n",
       "      <th>knn_17</th>\n",
       "      <th>knn_18</th>\n",
       "      <th>knn_19</th>\n",
       "      <th>knn_20</th>\n",
       "      <th>knn_21</th>\n",
       "      <th>knn_22</th>\n",
       "    </tr>\n",
       "  </thead>\n",
       "  <tbody>\n",
       "    <tr>\n",
       "      <th>0</th>\n",
       "      <td>1.000000</td>\n",
       "      <td>0.000000</td>\n",
       "      <td>0.875</td>\n",
       "      <td>0.125</td>\n",
       "      <td>0.93750</td>\n",
       "      <td>0.06250</td>\n",
       "      <td>6.0</td>\n",
       "      <td>0.000000e+00</td>\n",
       "      <td>0.059319</td>\n",
       "      <td>0.000000e+00</td>\n",
       "      <td>...</td>\n",
       "      <td>0.060857</td>\n",
       "      <td>60856.533444</td>\n",
       "      <td>0.098680</td>\n",
       "      <td>98680.078080</td>\n",
       "      <td>0.012085</td>\n",
       "      <td>999.000000</td>\n",
       "      <td>0.031920</td>\n",
       "      <td>0.059319</td>\n",
       "      <td>0.069487</td>\n",
       "      <td>0.074708</td>\n",
       "    </tr>\n",
       "    <tr>\n",
       "      <th>1</th>\n",
       "      <td>0.333333</td>\n",
       "      <td>0.666667</td>\n",
       "      <td>0.750</td>\n",
       "      <td>0.250</td>\n",
       "      <td>0.90625</td>\n",
       "      <td>0.09375</td>\n",
       "      <td>1.0</td>\n",
       "      <td>0.000000e+00</td>\n",
       "      <td>0.071392</td>\n",
       "      <td>0.000000e+00</td>\n",
       "      <td>...</td>\n",
       "      <td>0.107822</td>\n",
       "      <td>107822.410227</td>\n",
       "      <td>0.172487</td>\n",
       "      <td>172486.753339</td>\n",
       "      <td>0.000000</td>\n",
       "      <td>0.072319</td>\n",
       "      <td>0.073668</td>\n",
       "      <td>0.072319</td>\n",
       "      <td>0.136572</td>\n",
       "      <td>0.100906</td>\n",
       "    </tr>\n",
       "    <tr>\n",
       "      <th>2</th>\n",
       "      <td>0.666667</td>\n",
       "      <td>0.333333</td>\n",
       "      <td>0.875</td>\n",
       "      <td>0.125</td>\n",
       "      <td>0.87500</td>\n",
       "      <td>0.12500</td>\n",
       "      <td>2.0</td>\n",
       "      <td>2.220446e-16</td>\n",
       "      <td>0.123519</td>\n",
       "      <td>2.220446e-10</td>\n",
       "      <td>...</td>\n",
       "      <td>0.228080</td>\n",
       "      <td>228080.490733</td>\n",
       "      <td>0.353428</td>\n",
       "      <td>353427.603610</td>\n",
       "      <td>0.036635</td>\n",
       "      <td>0.123519</td>\n",
       "      <td>0.140184</td>\n",
       "      <td>0.123519</td>\n",
       "      <td>0.267737</td>\n",
       "      <td>0.259038</td>\n",
       "    </tr>\n",
       "    <tr>\n",
       "      <th>3</th>\n",
       "      <td>1.000000</td>\n",
       "      <td>0.000000</td>\n",
       "      <td>1.000</td>\n",
       "      <td>0.000</td>\n",
       "      <td>0.90625</td>\n",
       "      <td>0.09375</td>\n",
       "      <td>10.0</td>\n",
       "      <td>0.000000e+00</td>\n",
       "      <td>0.034791</td>\n",
       "      <td>0.000000e+00</td>\n",
       "      <td>...</td>\n",
       "      <td>0.024825</td>\n",
       "      <td>24825.037336</td>\n",
       "      <td>0.066092</td>\n",
       "      <td>66091.833766</td>\n",
       "      <td>0.001721</td>\n",
       "      <td>999.000000</td>\n",
       "      <td>0.009789</td>\n",
       "      <td>999.000000</td>\n",
       "      <td>0.041238</td>\n",
       "      <td>0.044025</td>\n",
       "    </tr>\n",
       "    <tr>\n",
       "      <th>4</th>\n",
       "      <td>0.666667</td>\n",
       "      <td>0.333333</td>\n",
       "      <td>0.750</td>\n",
       "      <td>0.250</td>\n",
       "      <td>0.75000</td>\n",
       "      <td>0.25000</td>\n",
       "      <td>1.0</td>\n",
       "      <td>5.865830e-02</td>\n",
       "      <td>0.000000</td>\n",
       "      <td>5.865830e+04</td>\n",
       "      <td>...</td>\n",
       "      <td>0.128365</td>\n",
       "      <td>128364.953856</td>\n",
       "      <td>0.183451</td>\n",
       "      <td>183451.054531</td>\n",
       "      <td>0.086466</td>\n",
       "      <td>0.000000</td>\n",
       "      <td>0.111653</td>\n",
       "      <td>0.062000</td>\n",
       "      <td>0.145709</td>\n",
       "      <td>0.132348</td>\n",
       "    </tr>\n",
       "    <tr>\n",
       "      <th>...</th>\n",
       "      <td>...</td>\n",
       "      <td>...</td>\n",
       "      <td>...</td>\n",
       "      <td>...</td>\n",
       "      <td>...</td>\n",
       "      <td>...</td>\n",
       "      <td>...</td>\n",
       "      <td>...</td>\n",
       "      <td>...</td>\n",
       "      <td>...</td>\n",
       "      <td>...</td>\n",
       "      <td>...</td>\n",
       "      <td>...</td>\n",
       "      <td>...</td>\n",
       "      <td>...</td>\n",
       "      <td>...</td>\n",
       "      <td>...</td>\n",
       "      <td>...</td>\n",
       "      <td>...</td>\n",
       "      <td>...</td>\n",
       "      <td>...</td>\n",
       "    </tr>\n",
       "    <tr>\n",
       "      <th>18354</th>\n",
       "      <td>1.000000</td>\n",
       "      <td>0.000000</td>\n",
       "      <td>1.000</td>\n",
       "      <td>0.000</td>\n",
       "      <td>0.96875</td>\n",
       "      <td>0.03125</td>\n",
       "      <td>8.0</td>\n",
       "      <td>0.000000e+00</td>\n",
       "      <td>0.230266</td>\n",
       "      <td>0.000000e+00</td>\n",
       "      <td>...</td>\n",
       "      <td>0.224873</td>\n",
       "      <td>224873.021838</td>\n",
       "      <td>0.325374</td>\n",
       "      <td>325374.103576</td>\n",
       "      <td>0.016742</td>\n",
       "      <td>999.000000</td>\n",
       "      <td>0.144363</td>\n",
       "      <td>999.000000</td>\n",
       "      <td>0.245266</td>\n",
       "      <td>0.230266</td>\n",
       "    </tr>\n",
       "    <tr>\n",
       "      <th>18355</th>\n",
       "      <td>1.000000</td>\n",
       "      <td>0.000000</td>\n",
       "      <td>0.875</td>\n",
       "      <td>0.125</td>\n",
       "      <td>0.84375</td>\n",
       "      <td>0.15625</td>\n",
       "      <td>4.0</td>\n",
       "      <td>0.000000e+00</td>\n",
       "      <td>0.158784</td>\n",
       "      <td>0.000000e+00</td>\n",
       "      <td>...</td>\n",
       "      <td>0.209530</td>\n",
       "      <td>209530.174738</td>\n",
       "      <td>0.368624</td>\n",
       "      <td>368624.044062</td>\n",
       "      <td>0.086015</td>\n",
       "      <td>999.000000</td>\n",
       "      <td>0.138069</td>\n",
       "      <td>0.158784</td>\n",
       "      <td>0.275423</td>\n",
       "      <td>0.265821</td>\n",
       "    </tr>\n",
       "    <tr>\n",
       "      <th>18356</th>\n",
       "      <td>1.000000</td>\n",
       "      <td>0.000000</td>\n",
       "      <td>1.000</td>\n",
       "      <td>0.000</td>\n",
       "      <td>0.93750</td>\n",
       "      <td>0.06250</td>\n",
       "      <td>18.0</td>\n",
       "      <td>4.440892e-16</td>\n",
       "      <td>0.027281</td>\n",
       "      <td>4.440892e-10</td>\n",
       "      <td>...</td>\n",
       "      <td>0.015372</td>\n",
       "      <td>15372.295384</td>\n",
       "      <td>0.058657</td>\n",
       "      <td>58656.747889</td>\n",
       "      <td>0.002260</td>\n",
       "      <td>999.000000</td>\n",
       "      <td>0.006655</td>\n",
       "      <td>999.000000</td>\n",
       "      <td>0.023530</td>\n",
       "      <td>0.030623</td>\n",
       "    </tr>\n",
       "    <tr>\n",
       "      <th>18357</th>\n",
       "      <td>1.000000</td>\n",
       "      <td>0.000000</td>\n",
       "      <td>1.000</td>\n",
       "      <td>0.000</td>\n",
       "      <td>0.93750</td>\n",
       "      <td>0.06250</td>\n",
       "      <td>23.0</td>\n",
       "      <td>0.000000e+00</td>\n",
       "      <td>0.157629</td>\n",
       "      <td>0.000000e+00</td>\n",
       "      <td>...</td>\n",
       "      <td>0.037169</td>\n",
       "      <td>37168.851837</td>\n",
       "      <td>0.165340</td>\n",
       "      <td>165339.516118</td>\n",
       "      <td>0.005127</td>\n",
       "      <td>999.000000</td>\n",
       "      <td>0.014441</td>\n",
       "      <td>999.000000</td>\n",
       "      <td>0.110232</td>\n",
       "      <td>0.157887</td>\n",
       "    </tr>\n",
       "    <tr>\n",
       "      <th>18358</th>\n",
       "      <td>1.000000</td>\n",
       "      <td>0.000000</td>\n",
       "      <td>0.875</td>\n",
       "      <td>0.125</td>\n",
       "      <td>0.96875</td>\n",
       "      <td>0.03125</td>\n",
       "      <td>3.0</td>\n",
       "      <td>1.110223e-15</td>\n",
       "      <td>0.061276</td>\n",
       "      <td>1.110223e-09</td>\n",
       "      <td>...</td>\n",
       "      <td>0.074584</td>\n",
       "      <td>74583.917980</td>\n",
       "      <td>0.116757</td>\n",
       "      <td>116756.584131</td>\n",
       "      <td>0.033507</td>\n",
       "      <td>999.000000</td>\n",
       "      <td>0.054948</td>\n",
       "      <td>0.061276</td>\n",
       "      <td>0.087287</td>\n",
       "      <td>0.061276</td>\n",
       "    </tr>\n",
       "  </tbody>\n",
       "</table>\n",
       "<p>18359 rows × 23 columns</p>\n",
       "</div>"
      ],
      "text/plain": [
       "          knn_0     knn_1  knn_2  knn_3    knn_4    knn_5  knn_6  \\\n",
       "0      1.000000  0.000000  0.875  0.125  0.93750  0.06250    6.0   \n",
       "1      0.333333  0.666667  0.750  0.250  0.90625  0.09375    1.0   \n",
       "2      0.666667  0.333333  0.875  0.125  0.87500  0.12500    2.0   \n",
       "3      1.000000  0.000000  1.000  0.000  0.90625  0.09375   10.0   \n",
       "4      0.666667  0.333333  0.750  0.250  0.75000  0.25000    1.0   \n",
       "...         ...       ...    ...    ...      ...      ...    ...   \n",
       "18354  1.000000  0.000000  1.000  0.000  0.96875  0.03125    8.0   \n",
       "18355  1.000000  0.000000  0.875  0.125  0.84375  0.15625    4.0   \n",
       "18356  1.000000  0.000000  1.000  0.000  0.93750  0.06250   18.0   \n",
       "18357  1.000000  0.000000  1.000  0.000  0.93750  0.06250   23.0   \n",
       "18358  1.000000  0.000000  0.875  0.125  0.96875  0.03125    3.0   \n",
       "\n",
       "              knn_7     knn_8         knn_9  ...    knn_13         knn_14  \\\n",
       "0      0.000000e+00  0.059319  0.000000e+00  ...  0.060857   60856.533444   \n",
       "1      0.000000e+00  0.071392  0.000000e+00  ...  0.107822  107822.410227   \n",
       "2      2.220446e-16  0.123519  2.220446e-10  ...  0.228080  228080.490733   \n",
       "3      0.000000e+00  0.034791  0.000000e+00  ...  0.024825   24825.037336   \n",
       "4      5.865830e-02  0.000000  5.865830e+04  ...  0.128365  128364.953856   \n",
       "...             ...       ...           ...  ...       ...            ...   \n",
       "18354  0.000000e+00  0.230266  0.000000e+00  ...  0.224873  224873.021838   \n",
       "18355  0.000000e+00  0.158784  0.000000e+00  ...  0.209530  209530.174738   \n",
       "18356  4.440892e-16  0.027281  4.440892e-10  ...  0.015372   15372.295384   \n",
       "18357  0.000000e+00  0.157629  0.000000e+00  ...  0.037169   37168.851837   \n",
       "18358  1.110223e-15  0.061276  1.110223e-09  ...  0.074584   74583.917980   \n",
       "\n",
       "         knn_15         knn_16    knn_17      knn_18    knn_19      knn_20  \\\n",
       "0      0.098680   98680.078080  0.012085  999.000000  0.031920    0.059319   \n",
       "1      0.172487  172486.753339  0.000000    0.072319  0.073668    0.072319   \n",
       "2      0.353428  353427.603610  0.036635    0.123519  0.140184    0.123519   \n",
       "3      0.066092   66091.833766  0.001721  999.000000  0.009789  999.000000   \n",
       "4      0.183451  183451.054531  0.086466    0.000000  0.111653    0.062000   \n",
       "...         ...            ...       ...         ...       ...         ...   \n",
       "18354  0.325374  325374.103576  0.016742  999.000000  0.144363  999.000000   \n",
       "18355  0.368624  368624.044062  0.086015  999.000000  0.138069    0.158784   \n",
       "18356  0.058657   58656.747889  0.002260  999.000000  0.006655  999.000000   \n",
       "18357  0.165340  165339.516118  0.005127  999.000000  0.014441  999.000000   \n",
       "18358  0.116757  116756.584131  0.033507  999.000000  0.054948    0.061276   \n",
       "\n",
       "         knn_21    knn_22  \n",
       "0      0.069487  0.074708  \n",
       "1      0.136572  0.100906  \n",
       "2      0.267737  0.259038  \n",
       "3      0.041238  0.044025  \n",
       "4      0.145709  0.132348  \n",
       "...         ...       ...  \n",
       "18354  0.245266  0.230266  \n",
       "18355  0.275423  0.265821  \n",
       "18356  0.023530  0.030623  \n",
       "18357  0.110232  0.157887  \n",
       "18358  0.087287  0.061276  \n",
       "\n",
       "[18359 rows x 23 columns]"
      ]
     },
     "execution_count": 111,
     "metadata": {},
     "output_type": "execute_result"
    }
   ],
   "source": [
    "X"
   ]
  },
  {
   "cell_type": "code",
   "execution_count": 112,
   "id": "9d60a288",
   "metadata": {},
   "outputs": [
    {
     "name": "stdout",
     "output_type": "stream",
     "text": [
      "[[4733    7]\n",
      " [   3  765]]\n",
      "0.9981844589687727\n"
     ]
    }
   ],
   "source": [
    "y_pred_test=clf.predict(x_test)\n",
    "cm=confusion_matrix(y_test,y_pred_test)\n",
    "score=clf.score(x_test,y_test)\n",
    "print(cm)\n",
    "print(score)"
   ]
  },
  {
   "cell_type": "code",
   "execution_count": 113,
   "id": "e3c2cca6",
   "metadata": {},
   "outputs": [
    {
     "data": {
      "text/plain": [
       "<sklearn.metrics._plot.confusion_matrix.ConfusionMatrixDisplay at 0x1f148e192d0>"
      ]
     },
     "execution_count": 113,
     "metadata": {},
     "output_type": "execute_result"
    },
    {
     "data": {
      "image/png": "[encoded data removed]",
      "text/plain": [
       "<Figure size 432x288 with 2 Axes>"
      ]
     },
     "metadata": {
      "needs_background": "light"
     },
     "output_type": "display_data"
    }
   ],
   "source": [
    "disp = ConfusionMatrixDisplay(confusion_matrix=cm,display_labels=clf.classes_)\n",
    "disp.plot()\n"
   ]
  },
  {
   "cell_type": "code",
   "execution_count": null,
   "id": "09daee59",
   "metadata": {},
   "outputs": [],
   "source": []
  },
  {
   "cell_type": "code",
   "execution_count": 114,
   "id": "e039395d",
   "metadata": {},
   "outputs": [],
   "source": [
    "only_zeros=[0 for _ in range(len(y_train))]"
   ]
  },
  {
   "cell_type": "code",
   "execution_count": 115,
   "id": "752c9168",
   "metadata": {},
   "outputs": [
    {
     "name": "stdout",
     "output_type": "stream",
     "text": [
      "AUC score is 0.5\n"
     ]
    }
   ],
   "source": [
    "score=roc_auc_score(y_train,only_zeros)\n",
    "print('AUC score is '+str(score))"
   ]
  },
  {
   "cell_type": "code",
   "execution_count": 116,
   "id": "75f69246",
   "metadata": {},
   "outputs": [],
   "source": [
    "fpr, tpr, threshold = roc_curve(y_train, y_prob_pos)\n",
    "ns_fpr, ns_tpr, ns_threshold = roc_curve(y_train, only_zeros)"
   ]
  },
  {
   "cell_type": "code",
   "execution_count": 117,
   "id": "db1b8ee4",
   "metadata": {},
   "outputs": [
    {
     "data": {
      "image/png": "[encoded data removed]",
      "text/plain": [
       "<Figure size 432x288 with 1 Axes>"
      ]
     },
     "metadata": {
      "needs_background": "light"
     },
     "output_type": "display_data"
    }
   ],
   "source": [
    "import matplotlib.pyplot as plt\n",
    "plt.plot(ns_fpr, ns_tpr, linestyle='--', label='No Skill')\n",
    "plt.plot(fpr, tpr, marker='.', label='Logistic')\n",
    "# axis labels\n",
    "plt.xlabel('False Positive Rate')\n",
    "plt.ylabel('True Positive Rate')\n",
    "# show the legend\n",
    "plt.legend()\n",
    "# show the plot\n",
    "plt.show()"
   ]
  },
  {
   "cell_type": "code",
   "execution_count": 118,
   "id": "32fabf81",
   "metadata": {},
   "outputs": [
    {
     "data": {
      "image/png": "[encoded data removed]",
      "text/plain": [
       "<Figure size 432x288 with 1 Axes>"
      ]
     },
     "metadata": {
      "needs_background": "light"
     },
     "output_type": "display_data"
    }
   ],
   "source": [
    "precision,recall,threshold=precision_recall_curve(y_train, y_prob_pos)\n",
    "plt.plot(recall, precision, linestyle='--', label='precision recall')\n",
    "\n",
    "# axis labels\n",
    "plt.xlabel('recall')\n",
    "plt.ylabel('precision')\n",
    "# show the legend\n",
    "plt.legend()\n",
    "# show the plot\n",
    "plt.show()"
   ]
  },
  {
   "cell_type": "code",
   "execution_count": 119,
   "id": "68b2a7a9",
   "metadata": {},
   "outputs": [],
   "source": [
    "threshold=np.insert(threshold,0,0)\n"
   ]
  },
  {
   "cell_type": "code",
   "execution_count": 120,
   "id": "b14881c2",
   "metadata": {},
   "outputs": [
    {
     "data": {
      "image/png": "[encoded data removed]",
      "text/plain": [
       "<Figure size 432x288 with 1 Axes>"
      ]
     },
     "metadata": {
      "needs_background": "light"
     },
     "output_type": "display_data"
    }
   ],
   "source": [
    "plt.plot(threshold, precision, linestyle='dotted', label='threshold precision ')\n",
    "\n",
    "# axis labels\n",
    "plt.xlabel('threshold')\n",
    "plt.ylabel('precision')\n",
    "# show the legend\n",
    "plt.legend()\n",
    "# show the plot\n",
    "plt.show()\n",
    "\n"
   ]
  },
  {
   "cell_type": "code",
   "execution_count": 121,
   "id": "e3f78701",
   "metadata": {},
   "outputs": [
    {
     "data": {
      "image/png": "[encoded data removed]",
      "text/plain": [
       "<Figure size 432x288 with 1 Axes>"
      ]
     },
     "metadata": {
      "needs_background": "light"
     },
     "output_type": "display_data"
    }
   ],
   "source": [
    "plt.plot(threshold, recall, linestyle='dotted', label='recall threshold ')\n",
    "\n",
    "# axis labels\n",
    "plt.xlabel('threshold')\n",
    "plt.ylabel('recall')\n",
    "# show the legend\n",
    "plt.legend()\n",
    "# show the plot\n",
    "plt.show()"
   ]
  },
  {
   "cell_type": "code",
   "execution_count": 122,
   "id": "8ea64c44",
   "metadata": {},
   "outputs": [],
   "source": [
    "X_val=pd.read_csv('../test_x_knn_feats_only.csv')\n"
   ]
  },
  {
   "cell_type": "code",
   "execution_count": 123,
   "id": "37241f1d",
   "metadata": {},
   "outputs": [
    {
     "data": {
      "text/plain": [
       "(15021, 23)"
      ]
     },
     "execution_count": 123,
     "metadata": {},
     "output_type": "execute_result"
    }
   ],
   "source": [
    "X_val.shape"
   ]
  },
  {
   "cell_type": "code",
   "execution_count": 124,
   "id": "b7c0b00f",
   "metadata": {},
   "outputs": [],
   "source": [
    "test_proba=clf.predict_proba(X_val)\n",
    "y_prob_pos_test=test_proba[:,1]"
   ]
  },
  {
   "cell_type": "code",
   "execution_count": 125,
   "id": "dbb05518",
   "metadata": {},
   "outputs": [],
   "source": [
    "y_val=pd.read_csv('../test_y.csv')"
   ]
  },
  {
   "cell_type": "code",
   "execution_count": 126,
   "id": "7e4baaca",
   "metadata": {},
   "outputs": [],
   "source": [
    "y_val['target']=y_prob_pos_test"
   ]
  },
  {
   "cell_type": "code",
   "execution_count": 107,
   "id": "98446691",
   "metadata": {},
   "outputs": [],
   "source": [
    "y_val.to_csv('rf.csv',index=False)"
   ]
  },
  {
   "cell_type": "code",
   "execution_count": null,
   "id": "6878d319",
   "metadata": {},
   "outputs": [],
   "source": []
  },
  {
   "cell_type": "code",
   "execution_count": null,
   "id": "56ffb8e2",
   "metadata": {},
   "outputs": [],
   "source": []
  }
 ],
 "metadata": {
  "kernelspec": {
   "display_name": "Python 3 (ipykernel)",
   "language": "python",
   "name": "python3"
  },
  "language_info": {
   "codemirror_mode": {
    "name": "ipython",
    "version": 3
   },
   "file_extension": ".py",
   "mimetype": "text/x-python",
   "name": "python",
   "nbconvert_exporter": "python",
   "pygments_lexer": "ipython3",
   "version": "3.10.1"
  }
 },
 "nbformat": 4,
 "nbformat_minor": 5
}
