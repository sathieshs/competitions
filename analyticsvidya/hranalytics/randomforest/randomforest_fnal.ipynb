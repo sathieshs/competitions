{
 "cells": [
  {
   "cell_type": "code",
   "execution_count": 1,
   "id": "a9ac778f",
   "metadata": {},
   "outputs": [],
   "source": [
    "from sklearn.ensemble import RandomForestClassifier\n",
    "import numpy as np\n",
    "import pandas as pd\n",
    "from sklearn.model_selection import train_test_split\n",
    "from sklearn.metrics import roc_auc_score,roc_curve,confusion_matrix,ConfusionMatrixDisplay,precision_recall_curve,accuracy_score,f1_score,precision_score,recall_score"
   ]
  },
  {
   "cell_type": "code",
   "execution_count": 2,
   "id": "5b588374",
   "metadata": {},
   "outputs": [],
   "source": [
    "X=pd.read_csv('../train_x.csv')\n",
    "Y=pd.read_csv('../train_y.csv')\n",
    "Y=Y['target']\n"
   ]
  },
  {
   "cell_type": "code",
   "execution_count": 3,
   "id": "c5eff663",
   "metadata": {},
   "outputs": [
    {
     "data": {
      "text/plain": [
       "(18359, 166)"
      ]
     },
     "execution_count": 3,
     "metadata": {},
     "output_type": "execute_result"
    }
   ],
   "source": [
    "X.shape"
   ]
  },
  {
   "cell_type": "code",
   "execution_count": 4,
   "id": "49f7ac57",
   "metadata": {},
   "outputs": [],
   "source": [
    "\n",
    "\n",
    "x_train, x_test, y_train, y_test=train_test_split(X,Y, test_size=0.3, random_state=42)"
   ]
  },
  {
   "cell_type": "code",
   "execution_count": 5,
   "id": "84dbd533",
   "metadata": {},
   "outputs": [],
   "source": [
    "clf=RandomForestClassifier(max_depth=12, max_features=80, n_estimators=1000)\n",
    "clf.fit(x_train,y_train)\n",
    "y_prob=clf.predict_proba(x_train)\n",
    "y_prob_pos=y_prob[:,1]\n",
    "y_pred=clf.predict(x_train)"
   ]
  },
  {
   "cell_type": "code",
   "execution_count": 6,
   "id": "3e231e9d",
   "metadata": {},
   "outputs": [
    {
     "name": "stdout",
     "output_type": "stream",
     "text": [
      "AUC score is 0.8852815959148733\n",
      "Accuracy score is :0.8908256166835266\n",
      "precision  is :0.9922480620155039\n",
      "f1 score is :0.2673629242819843\n",
      "recall score is :0.15449607724803863\n"
     ]
    }
   ],
   "source": [
    "score=roc_auc_score(y_train,y_prob_pos)\n",
    "print('AUC score is '+str(score))\n",
    "print('Accuracy score is :'+str(accuracy_score(y_train,y_pred)))\n",
    "print('precision  is :'+str(precision_score(y_train,y_pred)))\n",
    "print('f1 score is :'+str(f1_score(y_train,y_pred)))\n",
    "print('recall score is :'+str(recall_score(y_train,y_pred)))\n"
   ]
  },
  {
   "cell_type": "code",
   "execution_count": 7,
   "id": "51de4192",
   "metadata": {},
   "outputs": [
    {
     "name": "stdout",
     "output_type": "stream",
     "text": [
      "AUC score is 0.6661570960794656\n",
      "Accuracy score is :0.8600217864923747\n",
      "precision  is :0.4444444444444444\n",
      "f1 score is :0.03018867924528302\n",
      "recall score is :0.015625\n"
     ]
    }
   ],
   "source": [
    "y_prob_test=clf.predict_proba(x_test)\n",
    "y_prob_pos_test=y_prob_test[:,1]\n",
    "score=roc_auc_score(y_test,y_prob_pos_test)\n",
    "y_pred_test=clf.predict(x_test)\n",
    "print('AUC score is '+str(score))\n",
    "print('Accuracy score is :'+str(accuracy_score(y_test,y_pred_test)))\n",
    "print('precision  is :'+str(precision_score(y_test,y_pred_test)))\n",
    "print('f1 score is :'+str(f1_score(y_test,y_pred_test)))\n",
    "print('recall score is :'+str(recall_score(y_test,y_pred_test)))"
   ]
  },
  {
   "cell_type": "code",
   "execution_count": 8,
   "id": "c94e8c80",
   "metadata": {},
   "outputs": [
    {
     "data": {
      "text/html": [
       "<div>\n",
       "<style scoped>\n",
       "    .dataframe tbody tr th:only-of-type {\n",
       "        vertical-align: middle;\n",
       "    }\n",
       "\n",
       "    .dataframe tbody tr th {\n",
       "        vertical-align: top;\n",
       "    }\n",
       "\n",
       "    .dataframe thead th {\n",
       "        text-align: right;\n",
       "    }\n",
       "</style>\n",
       "<table border=\"1\" class=\"dataframe\">\n",
       "  <thead>\n",
       "    <tr style=\"text-align: right;\">\n",
       "      <th></th>\n",
       "      <th>city_development_index</th>\n",
       "      <th>experience</th>\n",
       "      <th>last_new_job</th>\n",
       "      <th>training_hours</th>\n",
       "      <th>city_city_1</th>\n",
       "      <th>city_city_10</th>\n",
       "      <th>city_city_100</th>\n",
       "      <th>city_city_101</th>\n",
       "      <th>city_city_102</th>\n",
       "      <th>city_city_103</th>\n",
       "      <th>...</th>\n",
       "      <th>company_size_5000-9999</th>\n",
       "      <th>company_size_&lt;10</th>\n",
       "      <th>company_size_empty</th>\n",
       "      <th>company_type_Early Stage Startup</th>\n",
       "      <th>company_type_Funded Startup</th>\n",
       "      <th>company_type_NGO</th>\n",
       "      <th>company_type_Other</th>\n",
       "      <th>company_type_Public Sector</th>\n",
       "      <th>company_type_Pvt Ltd</th>\n",
       "      <th>company_type_empty</th>\n",
       "    </tr>\n",
       "  </thead>\n",
       "  <tbody>\n",
       "    <tr>\n",
       "      <th>0</th>\n",
       "      <td>-1.435209</td>\n",
       "      <td>-1.041413</td>\n",
       "      <td>-0.635688</td>\n",
       "      <td>0.658650</td>\n",
       "      <td>-0.038378</td>\n",
       "      <td>-0.072121</td>\n",
       "      <td>-0.122402</td>\n",
       "      <td>-0.049014</td>\n",
       "      <td>-0.131699</td>\n",
       "      <td>-0.557910</td>\n",
       "      <td>...</td>\n",
       "      <td>-0.182379</td>\n",
       "      <td>-0.282851</td>\n",
       "      <td>-0.593224</td>\n",
       "      <td>-0.180939</td>\n",
       "      <td>-0.24480</td>\n",
       "      <td>-0.173084</td>\n",
       "      <td>-0.080772</td>\n",
       "      <td>-0.239506</td>\n",
       "      <td>0.909167</td>\n",
       "      <td>-0.615064</td>\n",
       "    </tr>\n",
       "    <tr>\n",
       "      <th>1</th>\n",
       "      <td>0.688478</td>\n",
       "      <td>0.333276</td>\n",
       "      <td>-0.635688</td>\n",
       "      <td>0.050933</td>\n",
       "      <td>-0.038378</td>\n",
       "      <td>-0.072121</td>\n",
       "      <td>-0.122402</td>\n",
       "      <td>-0.049014</td>\n",
       "      <td>-0.131699</td>\n",
       "      <td>-0.557910</td>\n",
       "      <td>...</td>\n",
       "      <td>-0.182379</td>\n",
       "      <td>3.535430</td>\n",
       "      <td>-0.593224</td>\n",
       "      <td>-0.180939</td>\n",
       "      <td>4.08496</td>\n",
       "      <td>-0.173084</td>\n",
       "      <td>-0.080772</td>\n",
       "      <td>-0.239506</td>\n",
       "      <td>-1.099908</td>\n",
       "      <td>-0.615064</td>\n",
       "    </tr>\n",
       "    <tr>\n",
       "      <th>2</th>\n",
       "      <td>0.570495</td>\n",
       "      <td>-0.666498</td>\n",
       "      <td>-0.038421</td>\n",
       "      <td>-1.016677</td>\n",
       "      <td>-0.038378</td>\n",
       "      <td>-0.072121</td>\n",
       "      <td>-0.122402</td>\n",
       "      <td>-0.049014</td>\n",
       "      <td>-0.131699</td>\n",
       "      <td>-0.557910</td>\n",
       "      <td>...</td>\n",
       "      <td>-0.182379</td>\n",
       "      <td>-0.282851</td>\n",
       "      <td>-0.593224</td>\n",
       "      <td>-0.180939</td>\n",
       "      <td>-0.24480</td>\n",
       "      <td>-0.173084</td>\n",
       "      <td>-0.080772</td>\n",
       "      <td>4.175252</td>\n",
       "      <td>-1.099908</td>\n",
       "      <td>-0.615064</td>\n",
       "    </tr>\n",
       "    <tr>\n",
       "      <th>3</th>\n",
       "      <td>-1.643947</td>\n",
       "      <td>0.333276</td>\n",
       "      <td>-0.635688</td>\n",
       "      <td>-0.655332</td>\n",
       "      <td>-0.038378</td>\n",
       "      <td>-0.072121</td>\n",
       "      <td>-0.122402</td>\n",
       "      <td>-0.049014</td>\n",
       "      <td>-0.131699</td>\n",
       "      <td>-0.557910</td>\n",
       "      <td>...</td>\n",
       "      <td>-0.182379</td>\n",
       "      <td>-0.282851</td>\n",
       "      <td>-0.593224</td>\n",
       "      <td>-0.180939</td>\n",
       "      <td>-0.24480</td>\n",
       "      <td>-0.173084</td>\n",
       "      <td>-0.080772</td>\n",
       "      <td>-0.239506</td>\n",
       "      <td>0.909167</td>\n",
       "      <td>-0.615064</td>\n",
       "    </tr>\n",
       "    <tr>\n",
       "      <th>4</th>\n",
       "      <td>0.361757</td>\n",
       "      <td>-0.416554</td>\n",
       "      <td>-0.038421</td>\n",
       "      <td>0.363004</td>\n",
       "      <td>-0.038378</td>\n",
       "      <td>-0.072121</td>\n",
       "      <td>8.169785</td>\n",
       "      <td>-0.049014</td>\n",
       "      <td>-0.131699</td>\n",
       "      <td>-0.557910</td>\n",
       "      <td>...</td>\n",
       "      <td>-0.182379</td>\n",
       "      <td>-0.282851</td>\n",
       "      <td>1.685704</td>\n",
       "      <td>-0.180939</td>\n",
       "      <td>-0.24480</td>\n",
       "      <td>-0.173084</td>\n",
       "      <td>-0.080772</td>\n",
       "      <td>-0.239506</td>\n",
       "      <td>-1.099908</td>\n",
       "      <td>1.625848</td>\n",
       "    </tr>\n",
       "    <tr>\n",
       "      <th>...</th>\n",
       "      <td>...</td>\n",
       "      <td>...</td>\n",
       "      <td>...</td>\n",
       "      <td>...</td>\n",
       "      <td>...</td>\n",
       "      <td>...</td>\n",
       "      <td>...</td>\n",
       "      <td>...</td>\n",
       "      <td>...</td>\n",
       "      <td>...</td>\n",
       "      <td>...</td>\n",
       "      <td>...</td>\n",
       "      <td>...</td>\n",
       "      <td>...</td>\n",
       "      <td>...</td>\n",
       "      <td>...</td>\n",
       "      <td>...</td>\n",
       "      <td>...</td>\n",
       "      <td>...</td>\n",
       "      <td>...</td>\n",
       "      <td>...</td>\n",
       "    </tr>\n",
       "    <tr>\n",
       "      <th>18354</th>\n",
       "      <td>0.661251</td>\n",
       "      <td>-0.791470</td>\n",
       "      <td>-0.635688</td>\n",
       "      <td>0.083783</td>\n",
       "      <td>-0.038378</td>\n",
       "      <td>-0.072121</td>\n",
       "      <td>-0.122402</td>\n",
       "      <td>-0.049014</td>\n",
       "      <td>-0.131699</td>\n",
       "      <td>1.792404</td>\n",
       "      <td>...</td>\n",
       "      <td>-0.182379</td>\n",
       "      <td>3.535430</td>\n",
       "      <td>-0.593224</td>\n",
       "      <td>-0.180939</td>\n",
       "      <td>-0.24480</td>\n",
       "      <td>-0.173084</td>\n",
       "      <td>-0.080772</td>\n",
       "      <td>-0.239506</td>\n",
       "      <td>0.909167</td>\n",
       "      <td>-0.615064</td>\n",
       "    </tr>\n",
       "    <tr>\n",
       "      <th>18355</th>\n",
       "      <td>0.661251</td>\n",
       "      <td>0.458248</td>\n",
       "      <td>-0.635688</td>\n",
       "      <td>1.545587</td>\n",
       "      <td>-0.038378</td>\n",
       "      <td>-0.072121</td>\n",
       "      <td>-0.122402</td>\n",
       "      <td>-0.049014</td>\n",
       "      <td>-0.131699</td>\n",
       "      <td>-0.557910</td>\n",
       "      <td>...</td>\n",
       "      <td>-0.182379</td>\n",
       "      <td>-0.282851</td>\n",
       "      <td>-0.593224</td>\n",
       "      <td>-0.180939</td>\n",
       "      <td>-0.24480</td>\n",
       "      <td>-0.173084</td>\n",
       "      <td>-0.080772</td>\n",
       "      <td>-0.239506</td>\n",
       "      <td>0.909167</td>\n",
       "      <td>-0.615064</td>\n",
       "    </tr>\n",
       "    <tr>\n",
       "      <th>18356</th>\n",
       "      <td>0.715705</td>\n",
       "      <td>-0.041639</td>\n",
       "      <td>0.558846</td>\n",
       "      <td>-0.786730</td>\n",
       "      <td>-0.038378</td>\n",
       "      <td>-0.072121</td>\n",
       "      <td>-0.122402</td>\n",
       "      <td>-0.049014</td>\n",
       "      <td>-0.131699</td>\n",
       "      <td>-0.557910</td>\n",
       "      <td>...</td>\n",
       "      <td>-0.182379</td>\n",
       "      <td>-0.282851</td>\n",
       "      <td>-0.593224</td>\n",
       "      <td>-0.180939</td>\n",
       "      <td>-0.24480</td>\n",
       "      <td>-0.173084</td>\n",
       "      <td>-0.080772</td>\n",
       "      <td>-0.239506</td>\n",
       "      <td>0.909167</td>\n",
       "      <td>-0.615064</td>\n",
       "    </tr>\n",
       "    <tr>\n",
       "      <th>18357</th>\n",
       "      <td>0.833687</td>\n",
       "      <td>1.707966</td>\n",
       "      <td>0.558846</td>\n",
       "      <td>-0.408961</td>\n",
       "      <td>-0.038378</td>\n",
       "      <td>-0.072121</td>\n",
       "      <td>-0.122402</td>\n",
       "      <td>-0.049014</td>\n",
       "      <td>-0.131699</td>\n",
       "      <td>-0.557910</td>\n",
       "      <td>...</td>\n",
       "      <td>-0.182379</td>\n",
       "      <td>-0.282851</td>\n",
       "      <td>-0.593224</td>\n",
       "      <td>-0.180939</td>\n",
       "      <td>-0.24480</td>\n",
       "      <td>-0.173084</td>\n",
       "      <td>-0.080772</td>\n",
       "      <td>-0.239506</td>\n",
       "      <td>0.909167</td>\n",
       "      <td>-0.615064</td>\n",
       "    </tr>\n",
       "    <tr>\n",
       "      <th>18358</th>\n",
       "      <td>-0.482272</td>\n",
       "      <td>1.707966</td>\n",
       "      <td>-0.038421</td>\n",
       "      <td>0.297305</td>\n",
       "      <td>-0.038378</td>\n",
       "      <td>-0.072121</td>\n",
       "      <td>-0.122402</td>\n",
       "      <td>-0.049014</td>\n",
       "      <td>-0.131699</td>\n",
       "      <td>-0.557910</td>\n",
       "      <td>...</td>\n",
       "      <td>-0.182379</td>\n",
       "      <td>-0.282851</td>\n",
       "      <td>-0.593224</td>\n",
       "      <td>-0.180939</td>\n",
       "      <td>-0.24480</td>\n",
       "      <td>-0.173084</td>\n",
       "      <td>-0.080772</td>\n",
       "      <td>-0.239506</td>\n",
       "      <td>0.909167</td>\n",
       "      <td>-0.615064</td>\n",
       "    </tr>\n",
       "  </tbody>\n",
       "</table>\n",
       "<p>18359 rows × 166 columns</p>\n",
       "</div>"
      ],
      "text/plain": [
       "       city_development_index  experience  last_new_job  training_hours  \\\n",
       "0                   -1.435209   -1.041413     -0.635688        0.658650   \n",
       "1                    0.688478    0.333276     -0.635688        0.050933   \n",
       "2                    0.570495   -0.666498     -0.038421       -1.016677   \n",
       "3                   -1.643947    0.333276     -0.635688       -0.655332   \n",
       "4                    0.361757   -0.416554     -0.038421        0.363004   \n",
       "...                       ...         ...           ...             ...   \n",
       "18354                0.661251   -0.791470     -0.635688        0.083783   \n",
       "18355                0.661251    0.458248     -0.635688        1.545587   \n",
       "18356                0.715705   -0.041639      0.558846       -0.786730   \n",
       "18357                0.833687    1.707966      0.558846       -0.408961   \n",
       "18358               -0.482272    1.707966     -0.038421        0.297305   \n",
       "\n",
       "       city_city_1  city_city_10  city_city_100  city_city_101  city_city_102  \\\n",
       "0        -0.038378     -0.072121      -0.122402      -0.049014      -0.131699   \n",
       "1        -0.038378     -0.072121      -0.122402      -0.049014      -0.131699   \n",
       "2        -0.038378     -0.072121      -0.122402      -0.049014      -0.131699   \n",
       "3        -0.038378     -0.072121      -0.122402      -0.049014      -0.131699   \n",
       "4        -0.038378     -0.072121       8.169785      -0.049014      -0.131699   \n",
       "...            ...           ...            ...            ...            ...   \n",
       "18354    -0.038378     -0.072121      -0.122402      -0.049014      -0.131699   \n",
       "18355    -0.038378     -0.072121      -0.122402      -0.049014      -0.131699   \n",
       "18356    -0.038378     -0.072121      -0.122402      -0.049014      -0.131699   \n",
       "18357    -0.038378     -0.072121      -0.122402      -0.049014      -0.131699   \n",
       "18358    -0.038378     -0.072121      -0.122402      -0.049014      -0.131699   \n",
       "\n",
       "       city_city_103  ...  company_size_5000-9999  company_size_<10  \\\n",
       "0          -0.557910  ...               -0.182379         -0.282851   \n",
       "1          -0.557910  ...               -0.182379          3.535430   \n",
       "2          -0.557910  ...               -0.182379         -0.282851   \n",
       "3          -0.557910  ...               -0.182379         -0.282851   \n",
       "4          -0.557910  ...               -0.182379         -0.282851   \n",
       "...              ...  ...                     ...               ...   \n",
       "18354       1.792404  ...               -0.182379          3.535430   \n",
       "18355      -0.557910  ...               -0.182379         -0.282851   \n",
       "18356      -0.557910  ...               -0.182379         -0.282851   \n",
       "18357      -0.557910  ...               -0.182379         -0.282851   \n",
       "18358      -0.557910  ...               -0.182379         -0.282851   \n",
       "\n",
       "       company_size_empty  company_type_Early Stage Startup  \\\n",
       "0               -0.593224                         -0.180939   \n",
       "1               -0.593224                         -0.180939   \n",
       "2               -0.593224                         -0.180939   \n",
       "3               -0.593224                         -0.180939   \n",
       "4                1.685704                         -0.180939   \n",
       "...                   ...                               ...   \n",
       "18354           -0.593224                         -0.180939   \n",
       "18355           -0.593224                         -0.180939   \n",
       "18356           -0.593224                         -0.180939   \n",
       "18357           -0.593224                         -0.180939   \n",
       "18358           -0.593224                         -0.180939   \n",
       "\n",
       "       company_type_Funded Startup  company_type_NGO  company_type_Other  \\\n",
       "0                         -0.24480         -0.173084           -0.080772   \n",
       "1                          4.08496         -0.173084           -0.080772   \n",
       "2                         -0.24480         -0.173084           -0.080772   \n",
       "3                         -0.24480         -0.173084           -0.080772   \n",
       "4                         -0.24480         -0.173084           -0.080772   \n",
       "...                            ...               ...                 ...   \n",
       "18354                     -0.24480         -0.173084           -0.080772   \n",
       "18355                     -0.24480         -0.173084           -0.080772   \n",
       "18356                     -0.24480         -0.173084           -0.080772   \n",
       "18357                     -0.24480         -0.173084           -0.080772   \n",
       "18358                     -0.24480         -0.173084           -0.080772   \n",
       "\n",
       "       company_type_Public Sector  company_type_Pvt Ltd  company_type_empty  \n",
       "0                       -0.239506              0.909167           -0.615064  \n",
       "1                       -0.239506             -1.099908           -0.615064  \n",
       "2                        4.175252             -1.099908           -0.615064  \n",
       "3                       -0.239506              0.909167           -0.615064  \n",
       "4                       -0.239506             -1.099908            1.625848  \n",
       "...                           ...                   ...                 ...  \n",
       "18354                   -0.239506              0.909167           -0.615064  \n",
       "18355                   -0.239506              0.909167           -0.615064  \n",
       "18356                   -0.239506              0.909167           -0.615064  \n",
       "18357                   -0.239506              0.909167           -0.615064  \n",
       "18358                   -0.239506              0.909167           -0.615064  \n",
       "\n",
       "[18359 rows x 166 columns]"
      ]
     },
     "execution_count": 8,
     "metadata": {},
     "output_type": "execute_result"
    }
   ],
   "source": [
    "X"
   ]
  },
  {
   "cell_type": "code",
   "execution_count": 9,
   "id": "9d60a288",
   "metadata": {},
   "outputs": [
    {
     "name": "stdout",
     "output_type": "stream",
     "text": [
      "[[4725   15]\n",
      " [ 756   12]]\n",
      "0.8600217864923747\n"
     ]
    }
   ],
   "source": [
    "y_pred_test=clf.predict(x_test)\n",
    "cm=confusion_matrix(y_test,y_pred_test)\n",
    "score=clf.score(x_test,y_test)\n",
    "print(cm)\n",
    "print(score)"
   ]
  },
  {
   "cell_type": "code",
   "execution_count": 10,
   "id": "e3c2cca6",
   "metadata": {},
   "outputs": [
    {
     "data": {
      "text/plain": [
       "<sklearn.metrics._plot.confusion_matrix.ConfusionMatrixDisplay at 0x220154ed160>"
      ]
     },
     "execution_count": 10,
     "metadata": {},
     "output_type": "execute_result"
    },
    {
     "data": {
      "image/png": "[encoded data removed]",
      "text/plain": [
       "<Figure size 432x288 with 2 Axes>"
      ]
     },
     "metadata": {
      "needs_background": "light"
     },
     "output_type": "display_data"
    }
   ],
   "source": [
    "disp = ConfusionMatrixDisplay(confusion_matrix=cm,display_labels=clf.classes_)\n",
    "disp.plot()\n"
   ]
  },
  {
   "cell_type": "code",
   "execution_count": null,
   "id": "09daee59",
   "metadata": {},
   "outputs": [],
   "source": []
  },
  {
   "cell_type": "code",
   "execution_count": 11,
   "id": "e039395d",
   "metadata": {},
   "outputs": [],
   "source": [
    "only_zeros=[0 for _ in range(len(y_train))]"
   ]
  },
  {
   "cell_type": "code",
   "execution_count": 12,
   "id": "752c9168",
   "metadata": {},
   "outputs": [
    {
     "name": "stdout",
     "output_type": "stream",
     "text": [
      "AUC score is 0.5\n"
     ]
    }
   ],
   "source": [
    "score=roc_auc_score(y_train,only_zeros)\n",
    "print('AUC score is '+str(score))"
   ]
  },
  {
   "cell_type": "code",
   "execution_count": 13,
   "id": "75f69246",
   "metadata": {},
   "outputs": [],
   "source": [
    "fpr, tpr, threshold = roc_curve(y_train, y_prob_pos)\n",
    "ns_fpr, ns_tpr, ns_threshold = roc_curve(y_train, only_zeros)"
   ]
  },
  {
   "cell_type": "code",
   "execution_count": 14,
   "id": "db1b8ee4",
   "metadata": {},
   "outputs": [
    {
     "data": {
      "image/png": "[encoded data removed]",
      "text/plain": [
       "<Figure size 432x288 with 1 Axes>"
      ]
     },
     "metadata": {
      "needs_background": "light"
     },
     "output_type": "display_data"
    }
   ],
   "source": [
    "import matplotlib.pyplot as plt\n",
    "plt.plot(ns_fpr, ns_tpr, linestyle='--', label='No Skill')\n",
    "plt.plot(fpr, tpr, marker='.', label='Logistic')\n",
    "# axis labels\n",
    "plt.xlabel('False Positive Rate')\n",
    "plt.ylabel('True Positive Rate')\n",
    "# show the legend\n",
    "plt.legend()\n",
    "# show the plot\n",
    "plt.show()"
   ]
  },
  {
   "cell_type": "code",
   "execution_count": 15,
   "id": "32fabf81",
   "metadata": {},
   "outputs": [
    {
     "data": {
      "image/png": "[encoded data removed]",
      "text/plain": [
       "<Figure size 432x288 with 1 Axes>"
      ]
     },
     "metadata": {
      "needs_background": "light"
     },
     "output_type": "display_data"
    }
   ],
   "source": [
    "precision,recall,threshold=precision_recall_curve(y_train, y_prob_pos)\n",
    "plt.plot(recall, precision, linestyle='--', label='precision recall')\n",
    "\n",
    "# axis labels\n",
    "plt.xlabel('recall')\n",
    "plt.ylabel('precision')\n",
    "# show the legend\n",
    "plt.legend()\n",
    "# show the plot\n",
    "plt.show()"
   ]
  },
  {
   "cell_type": "code",
   "execution_count": 16,
   "id": "68b2a7a9",
   "metadata": {},
   "outputs": [],
   "source": [
    "threshold=np.insert(threshold,0,0)\n"
   ]
  },
  {
   "cell_type": "code",
   "execution_count": 17,
   "id": "b14881c2",
   "metadata": {},
   "outputs": [
    {
     "data": {
      "image/png": "[encoded data removed]",
      "text/plain": [
       "<Figure size 432x288 with 1 Axes>"
      ]
     },
     "metadata": {
      "needs_background": "light"
     },
     "output_type": "display_data"
    }
   ],
   "source": [
    "plt.plot(threshold, precision, linestyle='dotted', label='threshold precision ')\n",
    "\n",
    "# axis labels\n",
    "plt.xlabel('threshold')\n",
    "plt.ylabel('precision')\n",
    "# show the legend\n",
    "plt.legend()\n",
    "# show the plot\n",
    "plt.show()\n",
    "\n"
   ]
  },
  {
   "cell_type": "code",
   "execution_count": 18,
   "id": "e3f78701",
   "metadata": {},
   "outputs": [
    {
     "data": {
      "image/png": "[encoded data removed]",
      "text/plain": [
       "<Figure size 432x288 with 1 Axes>"
      ]
     },
     "metadata": {
      "needs_background": "light"
     },
     "output_type": "display_data"
    }
   ],
   "source": [
    "plt.plot(threshold, recall, linestyle='dotted', label='recall threshold ')\n",
    "\n",
    "# axis labels\n",
    "plt.xlabel('threshold')\n",
    "plt.ylabel('recall')\n",
    "# show the legend\n",
    "plt.legend()\n",
    "# show the plot\n",
    "plt.show()"
   ]
  },
  {
   "cell_type": "code",
   "execution_count": 19,
   "id": "8ea64c44",
   "metadata": {},
   "outputs": [],
   "source": [
    "X_val=pd.read_csv('../test_x.csv')\n"
   ]
  },
  {
   "cell_type": "code",
   "execution_count": 20,
   "id": "37241f1d",
   "metadata": {},
   "outputs": [
    {
     "data": {
      "text/plain": [
       "(15021, 166)"
      ]
     },
     "execution_count": 20,
     "metadata": {},
     "output_type": "execute_result"
    }
   ],
   "source": [
    "X_val.shape"
   ]
  },
  {
   "cell_type": "code",
   "execution_count": 21,
   "id": "b7c0b00f",
   "metadata": {},
   "outputs": [],
   "source": [
    "test_proba=clf.predict_proba(X_val)\n",
    "y_prob_pos_test=test_proba[:,1]"
   ]
  },
  {
   "cell_type": "code",
   "execution_count": 22,
   "id": "dbb05518",
   "metadata": {},
   "outputs": [],
   "source": [
    "y_val=pd.read_csv('../test_y.csv')"
   ]
  },
  {
   "cell_type": "code",
   "execution_count": 23,
   "id": "7e4baaca",
   "metadata": {},
   "outputs": [],
   "source": [
    "y_val['target']=y_prob_pos_test"
   ]
  },
  {
   "cell_type": "code",
   "execution_count": 24,
   "id": "98446691",
   "metadata": {},
   "outputs": [],
   "source": [
    "y_val.to_csv('rf1.csv',index=False)"
   ]
  },
  {
   "cell_type": "code",
   "execution_count": null,
   "id": "6878d319",
   "metadata": {},
   "outputs": [],
   "source": []
  },
  {
   "cell_type": "code",
   "execution_count": null,
   "id": "56ffb8e2",
   "metadata": {},
   "outputs": [],
   "source": []
  }
 ],
 "metadata": {
  "kernelspec": {
   "display_name": "Python 3 (ipykernel)",
   "language": "python",
   "name": "python3"
  },
  "language_info": {
   "codemirror_mode": {
    "name": "ipython",
    "version": 3
   },
   "file_extension": ".py",
   "mimetype": "text/x-python",
   "name": "python",
   "nbconvert_exporter": "python",
   "pygments_lexer": "ipython3",
   "version": "3.7.0"
  }
 },
 "nbformat": 4,
 "nbformat_minor": 5
}
