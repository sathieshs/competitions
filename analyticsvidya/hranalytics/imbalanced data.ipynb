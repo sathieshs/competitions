{
 "cells": [
  {
   "cell_type": "code",
   "execution_count": 15,
   "id": "d3494291",
   "metadata": {},
   "outputs": [],
   "source": [
    "import imblearn\n",
    "import pandas as pd\n",
    "from imblearn.under_sampling import RandomUnderSampler\n",
    "from imblearn.over_sampling import RandomOverSampler\n",
    "from imblearn.over_sampling import SMOTE\n",
    "import os"
   ]
  },
  {
   "cell_type": "code",
   "execution_count": null,
   "id": "0dee369b",
   "metadata": {},
   "outputs": [],
   "source": [
    "#pip install imbalanced-learn"
   ]
  },
  {
   "cell_type": "code",
   "execution_count": 16,
   "id": "90ae5b20",
   "metadata": {},
   "outputs": [],
   "source": [
    "X=pd.read_csv('train_x.csv')\n",
    "Y=pd.read_csv('train_y.csv')\n",
    "Y=Y['target']"
   ]
  },
  {
   "cell_type": "code",
   "execution_count": 17,
   "id": "57b7fc81",
   "metadata": {},
   "outputs": [],
   "source": [
    "rus = RandomUnderSampler(random_state=42, replacement=True)\n",
    "ros = RandomOverSampler(random_state=42)\n",
    "smote=SMOTE()"
   ]
  },
  {
   "cell_type": "code",
   "execution_count": 18,
   "id": "80f7e510",
   "metadata": {},
   "outputs": [],
   "source": [
    "x_rus,y_rus=rus.fit_resample(X,Y)\n",
    "os.mkdir('./undersample')\n",
    "x_rus.to_csv('./undersample/train_x.csv')\n",
    "y_rus.to_csv('./undersample/train_y.csv')"
   ]
  },
  {
   "cell_type": "code",
   "execution_count": 19,
   "id": "70fd746c",
   "metadata": {},
   "outputs": [],
   "source": [
    "x_ros,y_ros=ros.fit_resample(X,Y)\n",
    "os.mkdir('./oversample')\n",
    "x_ros.to_csv('./oversample/train_x.csv')\n",
    "y_ros.to_csv('./oversample/train_y.csv')"
   ]
  },
  {
   "cell_type": "code",
   "execution_count": 20,
   "id": "c09183b0",
   "metadata": {},
   "outputs": [],
   "source": [
    "x_smote,y_smote=smote.fit_resample(X,Y)\n",
    "os.mkdir('./smote')\n",
    "x_smote.to_csv('./smote/train_x.csv')\n",
    "y_smote.to_csv('./smote/train_y.csv')"
   ]
  },
  {
   "cell_type": "code",
   "execution_count": null,
   "id": "0fb77672",
   "metadata": {},
   "outputs": [],
   "source": []
  }
 ],
 "metadata": {
  "kernelspec": {
   "display_name": "Python 3 (ipykernel)",
   "language": "python",
   "name": "python3"
  },
  "language_info": {
   "codemirror_mode": {
    "name": "ipython",
    "version": 3
   },
   "file_extension": ".py",
   "mimetype": "text/x-python",
   "name": "python",
   "nbconvert_exporter": "python",
   "pygments_lexer": "ipython3",
   "version": "3.10.1"
  }
 },
 "nbformat": 4,
 "nbformat_minor": 5
}
