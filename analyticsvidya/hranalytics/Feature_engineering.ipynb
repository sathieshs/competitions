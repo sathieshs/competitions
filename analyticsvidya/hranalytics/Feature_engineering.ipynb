{
 "cells": [
  {
   "cell_type": "code",
   "execution_count": 118,
   "id": "ec01e8fd",
   "metadata": {},
   "outputs": [],
   "source": [
    "import pandas as pd\n",
    "import numpy as np\n",
    "from sklearn.impute import SimpleImputer\n",
    "from sklearn.preprocessing import StandardScaler"
   ]
  },
  {
   "cell_type": "code",
   "execution_count": 119,
   "id": "79a0ea33",
   "metadata": {},
   "outputs": [],
   "source": [
    "df=pd.read_csv('train.csv')\n",
    "df_test=pd.read_csv('test.csv')\n",
    "df_subb=pd.read_csv('sample_submission.csv')"
   ]
  },
  {
   "cell_type": "code",
   "execution_count": 120,
   "id": "9757f7cd",
   "metadata": {},
   "outputs": [],
   "source": [
    "def createfeatures(df,file_name,scaler=None):\n",
    "    df.loc[df['last_new_job']=='never','last_new_job']=0\n",
    "    df.loc[df['last_new_job']=='>4','last_new_job']=5\n",
    "    imp = SimpleImputer(missing_values=np.nan, strategy='mean')\n",
    "    imp.fit(df['last_new_job'].values.reshape(-1, 1))\n",
    "    values=imp.transform(df['last_new_job'].values.reshape(-1, 1))\n",
    "    df['last_new_job']=np.round_(values)\n",
    "    df.loc[df['experience']=='>20','experience']=25\n",
    "    df.loc[df['experience']=='<1','experience']=0.5\n",
    "    imp = SimpleImputer(missing_values=np.nan, strategy='mean')\n",
    "    imp.fit(df['experience'].values.reshape(-1, 1))\n",
    "    values=imp.transform(df['experience'].values.reshape(-1, 1))\n",
    "    df['experience']=np.round_(values)\n",
    "    df=df.fillna('empty')\n",
    "    df = pd.get_dummies(df, columns = ['city','gender','relevent_experience','enrolled_university','education_level','major_discipline','company_size','company_type'])\n",
    "    if scaler is None:\n",
    "        scaler = StandardScaler()\n",
    "        scaler.fit(df)\n",
    "    df=pd.DataFrame(scaler.transform(df),columns = df.columns)\n",
    "    df.to_csv(file_name,index=False)\n",
    "    return df,scaler"
   ]
  },
  {
   "cell_type": "code",
   "execution_count": 121,
   "id": "4d8ca528",
   "metadata": {},
   "outputs": [],
   "source": [
    "Y=df[['target','enrollee_id']]\n",
    "df.drop(['target','enrollee_id'],inplace=True,axis=1)\n",
    "Y.to_csv('train_y.csv',index=False)\n",
    "df,scaler=createfeatures(df,'train_x.csv')"
   ]
  },
  {
   "cell_type": "code",
   "execution_count": 125,
   "id": "db721e65",
   "metadata": {},
   "outputs": [],
   "source": [
    "y_test=df_test['enrollee_id']\n",
    "y_test.to_csv('test_y.csv',index=False)\n",
    "df_test.drop(['enrollee_id'],axis=1,inplace=True)\n",
    "df_test,_=createfeatures(df_test,'test_x.csv',scaler)"
   ]
  },
  {
   "cell_type": "code",
   "execution_count": null,
   "id": "55c9d794",
   "metadata": {},
   "outputs": [],
   "source": []
  }
 ],
 "metadata": {
  "kernelspec": {
   "display_name": "Python 3 (ipykernel)",
   "language": "python",
   "name": "python3"
  },
  "language_info": {
   "codemirror_mode": {
    "name": "ipython",
    "version": 3
   },
   "file_extension": ".py",
   "mimetype": "text/x-python",
   "name": "python",
   "nbconvert_exporter": "python",
   "pygments_lexer": "ipython3",
   "version": "3.7.0"
  }
 },
 "nbformat": 4,
 "nbformat_minor": 5
}
