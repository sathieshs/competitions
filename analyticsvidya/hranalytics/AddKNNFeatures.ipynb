{
 "cells": [
  {
   "cell_type": "code",
   "execution_count": 1,
   "id": "ec01e8fd",
   "metadata": {},
   "outputs": [],
   "source": [
    "import pandas as pd\n",
    "import sys\n",
    "sys.path.append('../../utils/')\n"
   ]
  },
  {
   "cell_type": "code",
   "execution_count": 2,
   "id": "79a0ea33",
   "metadata": {},
   "outputs": [],
   "source": [
    "X=pd.read_csv('train_x.csv')\n",
    "Y=pd.read_csv('train_y.csv')['target']\n",
    "cols=X.columns\n",
    "X=X.to_numpy()\n",
    "Y=Y.to_numpy()"
   ]
  },
  {
   "cell_type": "code",
   "execution_count": 3,
   "id": "edf8b4f8",
   "metadata": {},
   "outputs": [],
   "source": [
    "from  KNNFeatures import NearestNeighborsFeats\n",
    "nnf=NearestNeighborsFeats()\n",
    "nnf.fit(X,Y)\n",
    "features=nnf.predict(X)"
   ]
  },
  {
   "cell_type": "code",
   "execution_count": 4,
   "id": "47d41bce",
   "metadata": {},
   "outputs": [],
   "source": [
    "import numpy as np\n",
    "cols=cols.values\n",
    "knn_cols=['knn_'+str(i) for i in range(features.shape[1])]\n",
    "cols=np.concatenate((cols,knn_cols))\n"
   ]
  },
  {
   "cell_type": "code",
   "execution_count": 5,
   "id": "3e5741de",
   "metadata": {},
   "outputs": [],
   "source": [
    "import numpy as np\n",
    "df=pd.DataFrame(data=np.hstack((X,features)),columns=cols)\n",
    "df_knn=pd.DataFrame(data=features,columns=knn_cols)"
   ]
  },
  {
   "cell_type": "code",
   "execution_count": 7,
   "id": "9cd6018d",
   "metadata": {},
   "outputs": [],
   "source": [
    "df.to_csv('x_train_knn_feat.csv',index=False)\n",
    "df_knn.to_csv('x_train_knn_feat_only.csv',index=False)"
   ]
  },
  {
   "cell_type": "code",
   "execution_count": 11,
   "id": "f55d16b9",
   "metadata": {},
   "outputs": [],
   "source": [
    "X_test=pd.read_csv('test_x.csv').to_numpy()\n",
    "feats=nnf.predict(X_test)\n",
    "df=pd.DataFrame(data=np.hstack((X_test,feats)),columns=cols)\n",
    "df_knn=pd.DataFrame(data=feats,columns=knn_cols)\n",
    "df.to_csv('test_x_knn_feats.csv',index=False)\n",
    "df_knn.to_csv('test_x_knn_feats_only.csv',index=False)"
   ]
  },
  {
   "cell_type": "code",
   "execution_count": null,
   "id": "757a9124",
   "metadata": {},
   "outputs": [],
   "source": []
  }
 ],
 "metadata": {
  "kernelspec": {
   "display_name": "Python 3 (ipykernel)",
   "language": "python",
   "name": "python3"
  },
  "language_info": {
   "codemirror_mode": {
    "name": "ipython",
    "version": 3
   },
   "file_extension": ".py",
   "mimetype": "text/x-python",
   "name": "python",
   "nbconvert_exporter": "python",
   "pygments_lexer": "ipython3",
   "version": "3.10.1"
  }
 },
 "nbformat": 4,
 "nbformat_minor": 5
}
