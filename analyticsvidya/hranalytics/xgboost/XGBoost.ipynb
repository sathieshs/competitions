{
 "cells": [
  {
   "cell_type": "code",
   "execution_count": 2,
   "id": "a9ac778f",
   "metadata": {},
   "outputs": [],
   "source": [
    "import xgboost as xgb\n",
    "import numpy as np\n",
    "import pandas as pd\n",
    "from sklearn.model_selection import train_test_split\n",
    "from sklearn.metrics import roc_auc_score,roc_curve,confusion_matrix,ConfusionMatrixDisplay,precision_recall_curve,accuracy_score,f1_score,precision_score,recall_score"
   ]
  },
  {
   "cell_type": "code",
   "execution_count": 14,
   "id": "5b588374",
   "metadata": {},
   "outputs": [],
   "source": [
    "X=pd.read_csv('../train_x.csv')\n",
    "Y=pd.read_csv('../train_y.csv')\n",
    "Y=Y['target'].to_numpy()\n",
    "#X.drop(['Unnamed: 0'],axis=1,inplace=True)\n",
    "X=X.to_numpy()"
   ]
  },
  {
   "cell_type": "code",
   "execution_count": 15,
   "id": "49f7ac57",
   "metadata": {},
   "outputs": [],
   "source": [
    "\n",
    "\n",
    "x_train, x_test, y_train, y_test=train_test_split(X,Y, test_size=0.3, random_state=42)"
   ]
  },
  {
   "cell_type": "code",
   "execution_count": 16,
   "id": "fa02c06c",
   "metadata": {},
   "outputs": [],
   "source": [
    "xg_train = xgb.DMatrix(x_train, label=y_train)\n",
    "xg_test = xgb.DMatrix(x_test, label=y_test)"
   ]
  },
  {
   "cell_type": "code",
   "execution_count": 17,
   "id": "fec9440a",
   "metadata": {},
   "outputs": [
    {
     "name": "stdout",
     "output_type": "stream",
     "text": [
      "[12:03:05] WARNING: C:/Users/Administrator/workspace/xgboost-win64_release_1.5.1/src/learner.cc:576: \n",
      "Parameters: { \"n_estimators\", \"silent\" } might not be used.\n",
      "\n",
      "  This could be a false alarm, with some parameters getting used by language bindings but\n",
      "  then being mistakenly passed down to XGBoost core, or some parameter actually being used\n",
      "  but getting flagged wrongly here. Please open an issue if you find any such cases.\n",
      "\n",
      "\n",
      "[12:03:05] WARNING: C:/Users/Administrator/workspace/xgboost-win64_release_1.5.1/src/learner.cc:1115: Starting in XGBoost 1.3.0, the default evaluation metric used with the objective 'binary:logistic' was changed from 'error' to 'logloss'. Explicitly set eval_metric if you'd like to restore the old behavior.\n"
     ]
    }
   ],
   "source": [
    "param = {\n",
    "    'max_depth': 3,  # the maximum depth of each tree\n",
    "    'eta': 0.3,  # the training step for each iteration\n",
    "    'silent': 1,  # logging mode - quiet\n",
    "    'objective': 'binary:logistic',\n",
    "    'n_estimators':300}\n",
    "num_round = 20  # the number of training iterations\n",
    "watchlist = [(xg_test, 'eval'), (xg_train, 'train')]\n",
    "model = xgb.train(param, xg_train, num_round)"
   ]
  },
  {
   "cell_type": "code",
   "execution_count": 18,
   "id": "84dbd533",
   "metadata": {},
   "outputs": [],
   "source": [
    "\n",
    "y_prob_pos= model.predict(xg_train)\n",
    "y_pred=np.asarray([1 if x>0.1 else 0 for x in y_prob_pos])"
   ]
  },
  {
   "cell_type": "code",
   "execution_count": 19,
   "id": "b84ac451",
   "metadata": {},
   "outputs": [
    {
     "data": {
      "text/plain": [
       "6189"
      ]
     },
     "execution_count": 19,
     "metadata": {},
     "output_type": "execute_result"
    }
   ],
   "source": [
    "y_pred.sum()"
   ]
  },
  {
   "cell_type": "code",
   "execution_count": 20,
   "id": "3e231e9d",
   "metadata": {},
   "outputs": [
    {
     "name": "stdout",
     "output_type": "stream",
     "text": [
      "AUC score is 0.7024438096147939\n",
      "Accuracy score is :0.5773091588203253\n",
      "precision  is :0.19502342866375827\n",
      "f1 score is :0.30767269946469533\n",
      "recall score is :0.7284248642124321\n"
     ]
    }
   ],
   "source": [
    "score=roc_auc_score(y_train,y_prob_pos)\n",
    "print('AUC score is '+str(score))\n",
    "print('Accuracy score is :'+str(accuracy_score(y_train,y_pred)))\n",
    "print('precision  is :'+str(precision_score(y_train,y_pred)))\n",
    "print('f1 score is :'+str(f1_score(y_train,y_pred)))\n",
    "print('recall score is :'+str(recall_score(y_train,y_pred)))\n"
   ]
  },
  {
   "cell_type": "code",
   "execution_count": 21,
   "id": "51de4192",
   "metadata": {},
   "outputs": [
    {
     "name": "stdout",
     "output_type": "stream",
     "text": [
      "AUC score is 0.6636842365506329\n",
      "Accuracy score is :0.5787944807552651\n",
      "precision  is :0.20084811102544334\n",
      "f1 score is :0.30993456276026177\n",
      "recall score is :0.6783854166666666\n"
     ]
    }
   ],
   "source": [
    "y_prob_pos_test=model.predict(xg_test)\n",
    "score=roc_auc_score(y_test,y_prob_pos_test)\n",
    "y_pred_test=np.asarray([1 if x>0.1 else 0 for x in y_prob_pos_test])\n",
    "print('AUC score is '+str(score))\n",
    "print('Accuracy score is :'+str(accuracy_score(y_test,y_pred_test)))\n",
    "print('precision  is :'+str(precision_score(y_test,y_pred_test)))\n",
    "print('f1 score is :'+str(f1_score(y_test,y_pred_test)))\n",
    "print('recall score is :'+str(recall_score(y_test,y_pred_test)))"
   ]
  },
  {
   "cell_type": "code",
   "execution_count": 22,
   "id": "9d60a288",
   "metadata": {},
   "outputs": [
    {
     "name": "stdout",
     "output_type": "stream",
     "text": [
      "[[2667 2073]\n",
      " [ 247  521]]\n"
     ]
    }
   ],
   "source": [
    "cm=confusion_matrix(y_test,y_pred_test)\n",
    "print(cm)\n"
   ]
  },
  {
   "cell_type": "code",
   "execution_count": 23,
   "id": "e3c2cca6",
   "metadata": {},
   "outputs": [
    {
     "data": {
      "text/plain": [
       "<sklearn.metrics._plot.confusion_matrix.ConfusionMatrixDisplay at 0x1e35f553c50>"
      ]
     },
     "execution_count": 23,
     "metadata": {},
     "output_type": "execute_result"
    },
    {
     "data": {
      "image/png": "[encoded data removed]",
      "text/plain": [
       "<Figure size 432x288 with 2 Axes>"
      ]
     },
     "metadata": {
      "needs_background": "light"
     },
     "output_type": "display_data"
    }
   ],
   "source": [
    "disp = ConfusionMatrixDisplay(confusion_matrix=cm,display_labels=[1,0])\n",
    "disp.plot()\n"
   ]
  },
  {
   "cell_type": "code",
   "execution_count": 24,
   "id": "75f69246",
   "metadata": {},
   "outputs": [],
   "source": [
    "fpr, tpr, threshold = roc_curve(y_train, y_prob_pos)\n"
   ]
  },
  {
   "cell_type": "code",
   "execution_count": 25,
   "id": "db1b8ee4",
   "metadata": {},
   "outputs": [
    {
     "data": {
      "image/png": "[encoded data removed]",
      "text/plain": [
       "<Figure size 432x288 with 1 Axes>"
      ]
     },
     "metadata": {
      "needs_background": "light"
     },
     "output_type": "display_data"
    }
   ],
   "source": [
    "import matplotlib.pyplot as plt\n",
    "plt.plot(fpr, tpr, marker='.', label='xgb')\n",
    "# axis labels\n",
    "plt.xlabel('False Positive Rate')\n",
    "plt.ylabel('True Positive Rate')\n",
    "# show the legend\n",
    "plt.legend()\n",
    "# show the plot\n",
    "plt.show()"
   ]
  },
  {
   "cell_type": "code",
   "execution_count": 26,
   "id": "32fabf81",
   "metadata": {},
   "outputs": [
    {
     "data": {
      "image/png": "[encoded data removed]",
      "text/plain": [
       "<Figure size 432x288 with 1 Axes>"
      ]
     },
     "metadata": {
      "needs_background": "light"
     },
     "output_type": "display_data"
    }
   ],
   "source": [
    "precision,recall,threshold=precision_recall_curve(y_train, y_prob_pos)\n",
    "plt.plot(recall, precision, linestyle='--', label='precision recall')\n",
    "\n",
    "# axis labels\n",
    "plt.xlabel('recall')\n",
    "plt.ylabel('precision')\n",
    "# show the legend\n",
    "plt.legend()\n",
    "# show the plot\n",
    "plt.show()"
   ]
  },
  {
   "cell_type": "code",
   "execution_count": 27,
   "id": "68b2a7a9",
   "metadata": {},
   "outputs": [],
   "source": [
    "threshold=np.insert(threshold,0,0)\n"
   ]
  },
  {
   "cell_type": "code",
   "execution_count": 28,
   "id": "b14881c2",
   "metadata": {},
   "outputs": [
    {
     "data": {
      "image/png": "[encoded data removed]",
      "text/plain": [
       "<Figure size 432x288 with 1 Axes>"
      ]
     },
     "metadata": {
      "needs_background": "light"
     },
     "output_type": "display_data"
    }
   ],
   "source": [
    "plt.plot(threshold, precision, linestyle='dotted', label='threshold precision ')\n",
    "\n",
    "# axis labels\n",
    "plt.xlabel('threshold')\n",
    "plt.ylabel('precision')\n",
    "# show the legend\n",
    "plt.legend()\n",
    "# show the plot\n",
    "plt.show()\n",
    "\n"
   ]
  },
  {
   "cell_type": "code",
   "execution_count": 29,
   "id": "e3f78701",
   "metadata": {},
   "outputs": [
    {
     "data": {
      "image/png": "[encoded data removed]",
      "text/plain": [
       "<Figure size 432x288 with 1 Axes>"
      ]
     },
     "metadata": {
      "needs_background": "light"
     },
     "output_type": "display_data"
    }
   ],
   "source": [
    "plt.plot(threshold, recall, linestyle='dotted', label='recall threshold ')\n",
    "\n",
    "# axis labels\n",
    "plt.xlabel('threshold')\n",
    "plt.ylabel('recall')\n",
    "# show the legend\n",
    "plt.legend()\n",
    "# show the plot\n",
    "plt.show()"
   ]
  },
  {
   "cell_type": "code",
   "execution_count": 30,
   "id": "8ea64c44",
   "metadata": {},
   "outputs": [],
   "source": [
    "X_val=pd.read_csv('../test_x.csv').to_numpy()\n",
    "X_val= xgb.DMatrix(X_val)"
   ]
  },
  {
   "cell_type": "code",
   "execution_count": 31,
   "id": "b7c0b00f",
   "metadata": {},
   "outputs": [],
   "source": [
    "y_prob_pos_test=model.predict(X_val)\n"
   ]
  },
  {
   "cell_type": "code",
   "execution_count": 32,
   "id": "dbb05518",
   "metadata": {},
   "outputs": [],
   "source": [
    "y_val=pd.read_csv('../test_y.csv')"
   ]
  },
  {
   "cell_type": "code",
   "execution_count": 33,
   "id": "7e4baaca",
   "metadata": {},
   "outputs": [],
   "source": [
    "y_val['target']=y_prob_pos_test"
   ]
  },
  {
   "cell_type": "code",
   "execution_count": 34,
   "id": "98446691",
   "metadata": {},
   "outputs": [],
   "source": [
    "y_val.to_csv('xgb.csv',index=False)"
   ]
  },
  {
   "cell_type": "code",
   "execution_count": null,
   "id": "6878d319",
   "metadata": {},
   "outputs": [],
   "source": []
  },
  {
   "cell_type": "code",
   "execution_count": null,
   "id": "56ffb8e2",
   "metadata": {},
   "outputs": [],
   "source": []
  },
  {
   "cell_type": "code",
   "execution_count": null,
   "id": "bac03164",
   "metadata": {},
   "outputs": [],
   "source": []
  },
  {
   "cell_type": "code",
   "execution_count": null,
   "id": "b813c7c3",
   "metadata": {},
   "outputs": [],
   "source": []
  },
  {
   "cell_type": "code",
   "execution_count": null,
   "id": "cdce3277",
   "metadata": {},
   "outputs": [],
   "source": []
  },
  {
   "cell_type": "code",
   "execution_count": null,
   "id": "762e4ab9",
   "metadata": {},
   "outputs": [],
   "source": []
  },
  {
   "cell_type": "code",
   "execution_count": null,
   "id": "64f54f08",
   "metadata": {},
   "outputs": [],
   "source": []
  },
  {
   "cell_type": "code",
   "execution_count": null,
   "id": "e3e78c45",
   "metadata": {},
   "outputs": [],
   "source": []
  },
  {
   "cell_type": "code",
   "execution_count": null,
   "id": "1b46bc39",
   "metadata": {},
   "outputs": [],
   "source": []
  }
 ],
 "metadata": {
  "kernelspec": {
   "display_name": "Python 3 (ipykernel)",
   "language": "python",
   "name": "python3"
  },
  "language_info": {
   "codemirror_mode": {
    "name": "ipython",
    "version": 3
   },
   "file_extension": ".py",
   "mimetype": "text/x-python",
   "name": "python",
   "nbconvert_exporter": "python",
   "pygments_lexer": "ipython3",
   "version": "3.7.0"
  }
 },
 "nbformat": 4,
 "nbformat_minor": 5
}
