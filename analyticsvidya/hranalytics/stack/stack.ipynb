{
 "cells": [
  {
   "cell_type": "code",
   "execution_count": 1,
   "id": "4828a0d2",
   "metadata": {},
   "outputs": [],
   "source": [
    "import pandas as pd"
   ]
  },
  {
   "cell_type": "code",
   "execution_count": 41,
   "id": "b7c91892",
   "metadata": {},
   "outputs": [],
   "source": [
    "dnn=pd.read_csv('../DNN/dnn.csv').to_numpy()\n",
    "xgb=pd.read_csv('../xgboost/xgb.csv').to_numpy()\n",
    "svm=pd.read_csv('../svm/svm.csv').to_numpy()\n",
    "rf=pd.read_csv('../randomforest/rf1.csv').to_numpy()\n",
    "logit=pd.read_csv('../logistic  regression/logit.csv').to_numpy()\n",
    "lgbm=pd.read_csv('../lightgbm/lxgb.csv').to_numpy()"
   ]
  },
  {
   "cell_type": "code",
   "execution_count": 42,
   "id": "39572f87",
   "metadata": {},
   "outputs": [
    {
     "data": {
      "text/plain": [
       "array([[1.6548000e+04, 8.8396790e-01],\n",
       "       [1.2036000e+04, 8.6566330e-02],\n",
       "       [1.1061000e+04, 4.1755188e-01],\n",
       "       ...,\n",
       "       [3.3346000e+04, 9.5619290e-02],\n",
       "       [1.4506000e+04, 2.0465660e-01],\n",
       "       [3.2641000e+04, 2.3645324e-01]])"
      ]
     },
     "execution_count": 42,
     "metadata": {},
     "output_type": "execute_result"
    }
   ],
   "source": [
    "dnn"
   ]
  },
  {
   "cell_type": "code",
   "execution_count": 44,
   "id": "4732ea42",
   "metadata": {},
   "outputs": [],
   "source": [
    "data=[]\n",
    "for row in zip(dnn[:,0],dnn[:,1],xgb[:,1],svm[:,1],rf[:,1],logit[:,1],lgbm[:,1]):\n",
    "    data.append((row[0],max(row[1:])))\n",
    "df=pd.DataFrame(data=data,columns=['enrollee_id','target'])\n",
    "df=df.convert_dtypes()\n",
    "df.to_csv('result_max.csv',index=False)"
   ]
  },
  {
   "cell_type": "code",
   "execution_count": 45,
   "id": "46b6c41f",
   "metadata": {},
   "outputs": [],
   "source": [
    "data=[]\n",
    "for row in zip(dnn[:,0],dnn[:,1],xgb[:,1],svm[:,1],rf[:,1],logit[:,1]):\n",
    "    data.append((row[0],sum(row[1:])/6))\n",
    "df=pd.DataFrame(data=data,columns=['enrollee_id','target'])\n",
    "df=df.convert_dtypes()\n",
    "df.to_csv('result_avg.csv',index=False)"
   ]
  },
  {
   "cell_type": "code",
   "execution_count": 46,
   "id": "c9ab8394",
   "metadata": {},
   "outputs": [],
   "source": [
    "data=[]\n",
    "for row in zip(dnn[:,0],dnn[:,1],xgb[:,1],svm[:,1],rf[:,1],logit[:,1]):\n",
    "    data.append((row[0],min(row[1:])))\n",
    "df=pd.DataFrame(data=data,columns=['enrollee_id','target'])\n",
    "df=df.convert_dtypes()\n",
    "df.to_csv('result_min.csv',index=False)"
   ]
  },
  {
   "cell_type": "code",
   "execution_count": null,
   "id": "36d28bf1",
   "metadata": {},
   "outputs": [],
   "source": []
  }
 ],
 "metadata": {
  "kernelspec": {
   "display_name": "Python 3 (ipykernel)",
   "language": "python",
   "name": "python3"
  },
  "language_info": {
   "codemirror_mode": {
    "name": "ipython",
    "version": 3
   },
   "file_extension": ".py",
   "mimetype": "text/x-python",
   "name": "python",
   "nbconvert_exporter": "python",
   "pygments_lexer": "ipython3",
   "version": "3.7.0"
  }
 },
 "nbformat": 4,
 "nbformat_minor": 5
}
