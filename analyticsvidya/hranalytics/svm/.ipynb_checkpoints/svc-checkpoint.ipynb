{
 "cells": [
  {
   "cell_type": "code",
   "execution_count": 1,
   "id": "a9ac778f",
   "metadata": {},
   "outputs": [],
   "source": [
    "from sklearn.svm import SVC \n",
    "import numpy as np\n",
    "import pandas as pd\n",
    "from sklearn.model_selection import train_test_split\n",
    "from sklearn.metrics import roc_auc_score,roc_curve,confusion_matrix,ConfusionMatrixDisplay,precision_recall_curve,accuracy_score,f1_score,precision_score,recall_score"
   ]
  },
  {
   "cell_type": "code",
   "execution_count": 2,
   "id": "5b588374",
   "metadata": {},
   "outputs": [],
   "source": [
    "X=pd.read_csv('../oversample/train_x.csv')\n",
    "Y=pd.read_csv('../oversample/train_y.csv')\n",
    "Y=Y['target']\n",
    "X.drop(['Unnamed: 0'],axis=1,inplace=True)"
   ]
  },
  {
   "cell_type": "code",
   "execution_count": 3,
   "id": "49f7ac57",
   "metadata": {},
   "outputs": [],
   "source": [
    "\n",
    "\n",
    "x_train, x_test, y_train, y_test=train_test_split(X,Y, test_size=0.3, random_state=42)"
   ]
  },
  {
   "cell_type": "code",
   "execution_count": 4,
   "id": "84dbd533",
   "metadata": {},
   "outputs": [
    {
     "ename": "AttributeError",
     "evalue": "predict_proba is not available when  probability=False",
     "output_type": "error",
     "traceback": [
      "\u001b[1;31m---------------------------------------------------------------------------\u001b[0m",
      "\u001b[1;31mAttributeError\u001b[0m                            Traceback (most recent call last)",
      "\u001b[1;32m~\\AppData\\Local\\Temp/ipykernel_10664/2875096371.py\u001b[0m in \u001b[0;36m<module>\u001b[1;34m\u001b[0m\n\u001b[0;32m      1\u001b[0m \u001b[0mclf\u001b[0m\u001b[1;33m=\u001b[0m\u001b[0mSVC\u001b[0m\u001b[1;33m(\u001b[0m\u001b[1;33m)\u001b[0m\u001b[1;33m\u001b[0m\u001b[1;33m\u001b[0m\u001b[0m\n\u001b[0;32m      2\u001b[0m \u001b[0mclf\u001b[0m\u001b[1;33m.\u001b[0m\u001b[0mfit\u001b[0m\u001b[1;33m(\u001b[0m\u001b[0mx_train\u001b[0m\u001b[1;33m,\u001b[0m\u001b[0my_train\u001b[0m\u001b[1;33m)\u001b[0m\u001b[1;33m\u001b[0m\u001b[1;33m\u001b[0m\u001b[0m\n\u001b[1;32m----> 3\u001b[1;33m \u001b[0my_prob\u001b[0m\u001b[1;33m=\u001b[0m\u001b[0mclf\u001b[0m\u001b[1;33m.\u001b[0m\u001b[0mpredict_proba\u001b[0m\u001b[1;33m(\u001b[0m\u001b[0mx_train\u001b[0m\u001b[1;33m)\u001b[0m\u001b[1;33m\u001b[0m\u001b[1;33m\u001b[0m\u001b[0m\n\u001b[0m\u001b[0;32m      4\u001b[0m \u001b[0my_prob_pos\u001b[0m\u001b[1;33m=\u001b[0m\u001b[0my_prob\u001b[0m\u001b[1;33m[\u001b[0m\u001b[1;33m:\u001b[0m\u001b[1;33m,\u001b[0m\u001b[1;36m1\u001b[0m\u001b[1;33m]\u001b[0m\u001b[1;33m\u001b[0m\u001b[1;33m\u001b[0m\u001b[0m\n\u001b[0;32m      5\u001b[0m \u001b[0my_pred\u001b[0m\u001b[1;33m=\u001b[0m\u001b[0mclf\u001b[0m\u001b[1;33m.\u001b[0m\u001b[0mpredict\u001b[0m\u001b[1;33m(\u001b[0m\u001b[0mx_train\u001b[0m\u001b[1;33m)\u001b[0m\u001b[1;33m\u001b[0m\u001b[1;33m\u001b[0m\u001b[0m\n",
      "\u001b[1;32mC:\\Program Files\\Python310\\lib\\site-packages\\sklearn\\utils\\metaestimators.py\u001b[0m in \u001b[0;36m__get__\u001b[1;34m(self, obj, owner)\u001b[0m\n\u001b[0;32m    107\u001b[0m             \u001b[1;31m# delegate only on instances, not the classes.\u001b[0m\u001b[1;33m\u001b[0m\u001b[1;33m\u001b[0m\u001b[0m\n\u001b[0;32m    108\u001b[0m             \u001b[1;31m# this is to allow access to the docstrings.\u001b[0m\u001b[1;33m\u001b[0m\u001b[1;33m\u001b[0m\u001b[0m\n\u001b[1;32m--> 109\u001b[1;33m             \u001b[1;32mif\u001b[0m \u001b[1;32mnot\u001b[0m \u001b[0mself\u001b[0m\u001b[1;33m.\u001b[0m\u001b[0mcheck\u001b[0m\u001b[1;33m(\u001b[0m\u001b[0mobj\u001b[0m\u001b[1;33m)\u001b[0m\u001b[1;33m:\u001b[0m\u001b[1;33m\u001b[0m\u001b[1;33m\u001b[0m\u001b[0m\n\u001b[0m\u001b[0;32m    110\u001b[0m                 \u001b[1;32mraise\u001b[0m \u001b[0mattr_err\u001b[0m\u001b[1;33m\u001b[0m\u001b[1;33m\u001b[0m\u001b[0m\n\u001b[0;32m    111\u001b[0m \u001b[1;33m\u001b[0m\u001b[0m\n",
      "\u001b[1;32mC:\\Program Files\\Python310\\lib\\site-packages\\sklearn\\svm\\_base.py\u001b[0m in \u001b[0;36m_check_proba\u001b[1;34m(self)\u001b[0m\n\u001b[0;32m    798\u001b[0m     \u001b[1;32mdef\u001b[0m \u001b[0m_check_proba\u001b[0m\u001b[1;33m(\u001b[0m\u001b[0mself\u001b[0m\u001b[1;33m)\u001b[0m\u001b[1;33m:\u001b[0m\u001b[1;33m\u001b[0m\u001b[1;33m\u001b[0m\u001b[0m\n\u001b[0;32m    799\u001b[0m         \u001b[1;32mif\u001b[0m \u001b[1;32mnot\u001b[0m \u001b[0mself\u001b[0m\u001b[1;33m.\u001b[0m\u001b[0mprobability\u001b[0m\u001b[1;33m:\u001b[0m\u001b[1;33m\u001b[0m\u001b[1;33m\u001b[0m\u001b[0m\n\u001b[1;32m--> 800\u001b[1;33m             raise AttributeError(\n\u001b[0m\u001b[0;32m    801\u001b[0m                 \u001b[1;34m\"predict_proba is not available when  probability=False\"\u001b[0m\u001b[1;33m\u001b[0m\u001b[1;33m\u001b[0m\u001b[0m\n\u001b[0;32m    802\u001b[0m             )\n",
      "\u001b[1;31mAttributeError\u001b[0m: predict_proba is not available when  probability=False"
     ]
    }
   ],
   "source": [
    "clf=SVC(probablity=True)\n",
    "clf.fit(x_train,y_train)\n",
    "y_prob=clf.predict_proba(x_train)\n",
    "y_prob_pos=y_prob[:,1]\n",
    "y_pred=clf.predict(x_train)"
   ]
  },
  {
   "cell_type": "code",
   "execution_count": null,
   "id": "3e231e9d",
   "metadata": {},
   "outputs": [],
   "source": [
    "score=roc_auc_score(y_train,y_prob_pos)\n",
    "print('AUC score is '+str(score))\n",
    "print('Accuracy score is :'+str(accuracy_score(y_train,y_pred)))\n",
    "print('precision  is :'+str(precision_score(y_train,y_pred)))\n",
    "print('f1 score is :'+str(f1_score(y_train,y_pred)))\n",
    "print('recall score is :'+str(recall_score(y_train,y_pred)))\n"
   ]
  },
  {
   "cell_type": "code",
   "execution_count": null,
   "id": "51de4192",
   "metadata": {},
   "outputs": [],
   "source": [
    "y_prob_test=clf.predict_proba(x_test)\n",
    "y_prob_pos_test=y_prob_test[:,1]\n",
    "score=roc_auc_score(y_test,y_prob_pos_test)\n",
    "y_pred_test=clf.predict(x_test)\n",
    "print('AUC score is '+str(score))\n",
    "print('Accuracy score is :'+str(accuracy_score(y_test,y_pred_test)))\n",
    "print('precision  is :'+str(precision_score(y_test,y_pred_test)))\n",
    "print('f1 score is :'+str(f1_score(y_test,y_pred_test)))\n",
    "print('recall score is :'+str(recall_score(y_test,y_pred_test)))"
   ]
  },
  {
   "cell_type": "code",
   "execution_count": null,
   "id": "9d60a288",
   "metadata": {},
   "outputs": [],
   "source": [
    "y_pred_test=clf.predict(x_test)\n",
    "cm=confusion_matrix(y_test,y_pred_test)\n",
    "score=clf.score(x_test,y_test)\n",
    "print(cm)\n",
    "print(score)"
   ]
  },
  {
   "cell_type": "code",
   "execution_count": null,
   "id": "e3c2cca6",
   "metadata": {},
   "outputs": [],
   "source": [
    "disp = ConfusionMatrixDisplay(confusion_matrix=cm,display_labels=clf.classes_)\n",
    "disp.plot()\n"
   ]
  },
  {
   "cell_type": "code",
   "execution_count": null,
   "id": "09daee59",
   "metadata": {},
   "outputs": [],
   "source": []
  },
  {
   "cell_type": "code",
   "execution_count": null,
   "id": "e039395d",
   "metadata": {},
   "outputs": [],
   "source": [
    "only_zeros=[0 for _ in range(len(y_train))]"
   ]
  },
  {
   "cell_type": "code",
   "execution_count": null,
   "id": "752c9168",
   "metadata": {},
   "outputs": [],
   "source": [
    "score=roc_auc_score(y_train,only_zeros)\n",
    "print('AUC score is '+str(score))"
   ]
  },
  {
   "cell_type": "code",
   "execution_count": null,
   "id": "75f69246",
   "metadata": {},
   "outputs": [],
   "source": [
    "fpr, tpr, threshold = roc_curve(y_train, y_prob_pos)\n",
    "ns_fpr, ns_tpr, ns_threshold = roc_curve(y_train, only_zeros)"
   ]
  },
  {
   "cell_type": "code",
   "execution_count": null,
   "id": "db1b8ee4",
   "metadata": {},
   "outputs": [],
   "source": [
    "import matplotlib.pyplot as plt\n",
    "plt.plot(ns_fpr, ns_tpr, linestyle='--', label='No Skill')\n",
    "plt.plot(fpr, tpr, marker='.', label='Logistic')\n",
    "# axis labels\n",
    "plt.xlabel('False Positive Rate')\n",
    "plt.ylabel('True Positive Rate')\n",
    "# show the legend\n",
    "plt.legend()\n",
    "# show the plot\n",
    "plt.show()"
   ]
  },
  {
   "cell_type": "code",
   "execution_count": null,
   "id": "32fabf81",
   "metadata": {},
   "outputs": [],
   "source": [
    "precision,recall,threshold=precision_recall_curve(y_train, y_prob_pos)\n",
    "plt.plot(recall, precision, linestyle='--', label='precision recall')\n",
    "\n",
    "# axis labels\n",
    "plt.xlabel('recall')\n",
    "plt.ylabel('precision')\n",
    "# show the legend\n",
    "plt.legend()\n",
    "# show the plot\n",
    "plt.show()"
   ]
  },
  {
   "cell_type": "code",
   "execution_count": null,
   "id": "68b2a7a9",
   "metadata": {},
   "outputs": [],
   "source": [
    "threshold=np.insert(threshold,0,0)\n"
   ]
  },
  {
   "cell_type": "code",
   "execution_count": null,
   "id": "b14881c2",
   "metadata": {},
   "outputs": [],
   "source": [
    "plt.plot(threshold, precision, linestyle='dotted', label='threshold precision ')\n",
    "\n",
    "# axis labels\n",
    "plt.xlabel('threshold')\n",
    "plt.ylabel('precision')\n",
    "# show the legend\n",
    "plt.legend()\n",
    "# show the plot\n",
    "plt.show()\n",
    "\n"
   ]
  },
  {
   "cell_type": "code",
   "execution_count": null,
   "id": "e3f78701",
   "metadata": {},
   "outputs": [],
   "source": [
    "plt.plot(threshold, recall, linestyle='dotted', label='recall threshold ')\n",
    "\n",
    "# axis labels\n",
    "plt.xlabel('threshold')\n",
    "plt.ylabel('recall')\n",
    "# show the legend\n",
    "plt.legend()\n",
    "# show the plot\n",
    "plt.show()"
   ]
  },
  {
   "cell_type": "code",
   "execution_count": null,
   "id": "196d849e",
   "metadata": {
    "scrolled": true
   },
   "outputs": [],
   "source": [
    "plt.plot(threshold, tpr, linestyle='--', label='threshold vs tpr')\n",
    "plt.plot(threshold, fpr, linestyle='dotted', label='threshold vs fpr')\n",
    "plt.legend()\n",
    "plt.show()"
   ]
  },
  {
   "cell_type": "code",
   "execution_count": null,
   "id": "8ea64c44",
   "metadata": {},
   "outputs": [],
   "source": [
    "X_val=pd.read_csv('../test_x.csv')"
   ]
  },
  {
   "cell_type": "code",
   "execution_count": null,
   "id": "b7c0b00f",
   "metadata": {},
   "outputs": [],
   "source": [
    "test_proba=clf.predict_proba(X_val)\n",
    "y_prob_pos_test=test_proba[:,1]"
   ]
  },
  {
   "cell_type": "code",
   "execution_count": null,
   "id": "dbb05518",
   "metadata": {},
   "outputs": [],
   "source": [
    "y_val=pd.read_csv('../test_y.csv')"
   ]
  },
  {
   "cell_type": "code",
   "execution_count": null,
   "id": "7e4baaca",
   "metadata": {},
   "outputs": [],
   "source": [
    "y_val['target']=y_prob_pos_test"
   ]
  },
  {
   "cell_type": "code",
   "execution_count": null,
   "id": "98446691",
   "metadata": {},
   "outputs": [],
   "source": [
    "y_val.to_csv('logit.csv',index=False)"
   ]
  },
  {
   "cell_type": "code",
   "execution_count": null,
   "id": "6878d319",
   "metadata": {},
   "outputs": [],
   "source": []
  },
  {
   "cell_type": "code",
   "execution_count": null,
   "id": "56ffb8e2",
   "metadata": {},
   "outputs": [],
   "source": []
  }
 ],
 "metadata": {
  "kernelspec": {
   "display_name": "Python 3 (ipykernel)",
   "language": "python",
   "name": "python3"
  },
  "language_info": {
   "codemirror_mode": {
    "name": "ipython",
    "version": 3
   },
   "file_extension": ".py",
   "mimetype": "text/x-python",
   "name": "python",
   "nbconvert_exporter": "python",
   "pygments_lexer": "ipython3",
   "version": "3.10.1"
  }
 },
 "nbformat": 4,
 "nbformat_minor": 5
}
