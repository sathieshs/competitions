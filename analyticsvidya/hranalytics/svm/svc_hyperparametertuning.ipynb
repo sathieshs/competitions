{
 "cells": [
  {
   "cell_type": "code",
   "execution_count": 9,
   "id": "a9ac778f",
   "metadata": {},
   "outputs": [],
   "source": [
    "from sklearn.svm import SVC \n",
    "import numpy as np\n",
    "import pandas as pd\n",
    "from sklearn.model_selection import train_test_split,GridSearchCV"
   ]
  },
  {
   "cell_type": "code",
   "execution_count": 10,
   "id": "5b588374",
   "metadata": {},
   "outputs": [],
   "source": [
    "X=pd.read_csv('../oversample/train_x.csv')\n",
    "Y=pd.read_csv('../oversample/train_y.csv')\n",
    "Y=Y['target']\n",
    "X.drop(['Unnamed: 0'],axis=1,inplace=True)"
   ]
  },
  {
   "cell_type": "code",
   "execution_count": 11,
   "id": "49f7ac57",
   "metadata": {},
   "outputs": [],
   "source": [
    "\n",
    "\n",
    "x_train, x_test, y_train, y_test=train_test_split(X,Y, test_size=0.3, random_state=42)"
   ]
  },
  {
   "cell_type": "code",
   "execution_count": null,
   "id": "84dbd533",
   "metadata": {},
   "outputs": [],
   "source": [
    "base_estimator=SVC(probability=True)\n",
    "param_grid = {'kernel':['linear', 'poly', 'rbf', 'sigmoid', 'precomputed'],\n",
    "             'tol': [1e-2, 1e-5, 1e-4,1e-3],\n",
    "             'C':[0.25,0.5,0.75,1.0,1.25],\n",
    "             'coef0':[0, 1, 10]}\n",
    "clf =  GridSearchCV(base_estimator, param_grid,n_jobs=3)\n",
    "clf.fit(X,Y)"
   ]
  },
  {
   "cell_type": "code",
   "execution_count": null,
   "id": "6878d319",
   "metadata": {},
   "outputs": [],
   "source": [
    "import pickle\n",
    "with open('gridsearch.pickle','wb') as f:\n",
    "    pickle.dump(clf, f) "
   ]
  },
  {
   "cell_type": "code",
   "execution_count": null,
   "id": "56ffb8e2",
   "metadata": {},
   "outputs": [],
   "source": [
    "estimator=clf.best_estimator_"
   ]
  },
  {
   "cell_type": "code",
   "execution_count": null,
   "id": "d93442ab",
   "metadata": {},
   "outputs": [],
   "source": []
  }
 ],
 "metadata": {
  "kernelspec": {
   "display_name": "Python 3 (ipykernel)",
   "language": "python",
   "name": "python3"
  },
  "language_info": {
   "codemirror_mode": {
    "name": "ipython",
    "version": 3
   },
   "file_extension": ".py",
   "mimetype": "text/x-python",
   "name": "python",
   "nbconvert_exporter": "python",
   "pygments_lexer": "ipython3",
   "version": "3.10.1"
  }
 },
 "nbformat": 4,
 "nbformat_minor": 5
}
